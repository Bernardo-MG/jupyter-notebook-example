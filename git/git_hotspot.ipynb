{
 "cells": [
  {
   "cell_type": "markdown",
   "metadata": {},
   "source": [
    "# Repository Hotspots"
   ]
  },
  {
   "cell_type": "markdown",
   "metadata": {},
   "source": [
    "We are going to see find out which files are changed the most. For this we are using a dataset created from JUnit4 with JQAssistant and the following Cypher query:"
   ]
  },
  {
   "cell_type": "markdown",
   "metadata": {},
   "source": [
    "```MATCH\n",
    "   (commit:Git:Commit),\n",
    "   (commit)-[:CONTAINS_CHANGE]->(change:Git:Change),\n",
    "   (author:Git:Author)-[:COMMITTED]->(commit),\n",
    "   (change)-[]->(file:File)\n",
    "RETURN DISTINCT\n",
    "   commit.sha AS sha,\n",
    "   commit.date AS date,\n",
    "   commit.time AS time,\n",
    "   commit.author AS author,\n",
    "   author.email AS author_email,\n",
    "   author.identString AS author_id,\n",
    "   commit.committer AS commiter,\n",
    "   commit.message AS message,\n",
    "   change.modificationKind AS modificationKind,\n",
    "   file.fileName AS file```"
   ]
  },
  {
   "cell_type": "markdown",
   "metadata": {},
   "source": [
    "With this we have the commits history for all the files."
   ]
  },
  {
   "cell_type": "markdown",
   "metadata": {},
   "source": [
    "# Setting Up"
   ]
  },
  {
   "cell_type": "code",
   "execution_count": 1,
   "metadata": {},
   "outputs": [],
   "source": [
    "import pandas as pd\n",
    "import calendar\n",
    "\n",
    "history = pd.read_json(\"../datasets/git_history_junit4.gz\", encoding='utf-8-sig')"
   ]
  },
  {
   "cell_type": "markdown",
   "metadata": {},
   "source": [
    "# Exploring Data"
   ]
  },
  {
   "cell_type": "code",
   "execution_count": 2,
   "metadata": {},
   "outputs": [
    {
     "data": {
      "text/html": [
       "<div>\n",
       "<style scoped>\n",
       "    .dataframe tbody tr th:only-of-type {\n",
       "        vertical-align: middle;\n",
       "    }\n",
       "\n",
       "    .dataframe tbody tr th {\n",
       "        vertical-align: top;\n",
       "    }\n",
       "\n",
       "    .dataframe thead th {\n",
       "        text-align: right;\n",
       "    }\n",
       "</style>\n",
       "<table border=\"1\" class=\"dataframe\">\n",
       "  <thead>\n",
       "    <tr style=\"text-align: right;\">\n",
       "      <th></th>\n",
       "      <th>sha</th>\n",
       "      <th>date</th>\n",
       "      <th>time</th>\n",
       "      <th>author</th>\n",
       "      <th>author_email</th>\n",
       "      <th>author_id</th>\n",
       "      <th>commiter</th>\n",
       "      <th>message</th>\n",
       "      <th>modificationKind</th>\n",
       "      <th>file</th>\n",
       "    </tr>\n",
       "  </thead>\n",
       "  <tbody>\n",
       "    <tr>\n",
       "      <th>0</th>\n",
       "      <td>3a5c6b4d08f408c8ca6a8e0bae71a9bc5a8f97e8</td>\n",
       "      <td>2020-08-02</td>\n",
       "      <td>20:24:18 +0200</td>\n",
       "      <td>Rahul Nagekar &lt;rahul.nagekar1@gmail.com&gt;</td>\n",
       "      <td>rahul.nagekar1@gmail.com</td>\n",
       "      <td>Rahul Nagekar &lt;rahul.nagekar1@gmail.com&gt;</td>\n",
       "      <td>GitHub &lt;noreply@github.com&gt;</td>\n",
       "      <td>Deprecated since jdk9 replacing constructor in...</td>\n",
       "      <td>M</td>\n",
       "      <td>src/main/java/junit/framework/Assert.java</td>\n",
       "    </tr>\n",
       "    <tr>\n",
       "      <th>1</th>\n",
       "      <td>44cd8f80dbac11849a42a5d73fc9b5ddc75cd1b4</td>\n",
       "      <td>2016-12-01</td>\n",
       "      <td>21:35:45 +0100</td>\n",
       "      <td>Kevin Cooney &lt;kcooney@google.com&gt;</td>\n",
       "      <td>kcooney@users.noreply.github.com</td>\n",
       "      <td>Kevin Cooney &lt;kcooney@users.noreply.github.com&gt;</td>\n",
       "      <td>Stefan Birkner &lt;github@stefan-birkner.de&gt;</td>\n",
       "      <td>Change generics on ExpectedException.expectCau...</td>\n",
       "      <td>M</td>\n",
       "      <td>src/main/java/org/junit/internal/matchers/Thro...</td>\n",
       "    </tr>\n",
       "    <tr>\n",
       "      <th>2</th>\n",
       "      <td>44cd8f80dbac11849a42a5d73fc9b5ddc75cd1b4</td>\n",
       "      <td>2016-12-01</td>\n",
       "      <td>21:35:45 +0100</td>\n",
       "      <td>Kevin Cooney &lt;kcooney@google.com&gt;</td>\n",
       "      <td>kcooney@users.noreply.github.com</td>\n",
       "      <td>Kevin Cooney &lt;kcooney@users.noreply.github.com&gt;</td>\n",
       "      <td>Stefan Birkner &lt;github@stefan-birkner.de&gt;</td>\n",
       "      <td>Change generics on ExpectedException.expectCau...</td>\n",
       "      <td>M</td>\n",
       "      <td>src/main/java/org/junit/rules/ExpectedExceptio...</td>\n",
       "    </tr>\n",
       "    <tr>\n",
       "      <th>3</th>\n",
       "      <td>8baae6ecd6e719c8de58bac1a191de2badd78ed3</td>\n",
       "      <td>2016-12-08</td>\n",
       "      <td>19:16:32 +0100</td>\n",
       "      <td>Kevin Cooney &lt;kcooney@google.com&gt;</td>\n",
       "      <td>kcooney@users.noreply.github.com</td>\n",
       "      <td>Kevin Cooney &lt;kcooney@users.noreply.github.com&gt;</td>\n",
       "      <td>Kevin Cooney &lt;kcooney@google.com&gt;</td>\n",
       "      <td>Do not use @Override when implementing methods...</td>\n",
       "      <td>M</td>\n",
       "      <td>src/main/java/org/junit/internal/management/Fa...</td>\n",
       "    </tr>\n",
       "    <tr>\n",
       "      <th>4</th>\n",
       "      <td>8baae6ecd6e719c8de58bac1a191de2badd78ed3</td>\n",
       "      <td>2016-12-08</td>\n",
       "      <td>19:16:32 +0100</td>\n",
       "      <td>Kevin Cooney &lt;kcooney@google.com&gt;</td>\n",
       "      <td>kcooney@users.noreply.github.com</td>\n",
       "      <td>Kevin Cooney &lt;kcooney@users.noreply.github.com&gt;</td>\n",
       "      <td>Kevin Cooney &lt;kcooney@google.com&gt;</td>\n",
       "      <td>Do not use @Override when implementing methods...</td>\n",
       "      <td>M</td>\n",
       "      <td>src/main/java/org/junit/internal/management/Re...</td>\n",
       "    </tr>\n",
       "  </tbody>\n",
       "</table>\n",
       "</div>"
      ],
      "text/plain": [
       "                                        sha       date            time  \\\n",
       "0  3a5c6b4d08f408c8ca6a8e0bae71a9bc5a8f97e8 2020-08-02  20:24:18 +0200   \n",
       "1  44cd8f80dbac11849a42a5d73fc9b5ddc75cd1b4 2016-12-01  21:35:45 +0100   \n",
       "2  44cd8f80dbac11849a42a5d73fc9b5ddc75cd1b4 2016-12-01  21:35:45 +0100   \n",
       "3  8baae6ecd6e719c8de58bac1a191de2badd78ed3 2016-12-08  19:16:32 +0100   \n",
       "4  8baae6ecd6e719c8de58bac1a191de2badd78ed3 2016-12-08  19:16:32 +0100   \n",
       "\n",
       "                                     author                      author_email  \\\n",
       "0  Rahul Nagekar <rahul.nagekar1@gmail.com>          rahul.nagekar1@gmail.com   \n",
       "1         Kevin Cooney <kcooney@google.com>  kcooney@users.noreply.github.com   \n",
       "2         Kevin Cooney <kcooney@google.com>  kcooney@users.noreply.github.com   \n",
       "3         Kevin Cooney <kcooney@google.com>  kcooney@users.noreply.github.com   \n",
       "4         Kevin Cooney <kcooney@google.com>  kcooney@users.noreply.github.com   \n",
       "\n",
       "                                         author_id  \\\n",
       "0         Rahul Nagekar <rahul.nagekar1@gmail.com>   \n",
       "1  Kevin Cooney <kcooney@users.noreply.github.com>   \n",
       "2  Kevin Cooney <kcooney@users.noreply.github.com>   \n",
       "3  Kevin Cooney <kcooney@users.noreply.github.com>   \n",
       "4  Kevin Cooney <kcooney@users.noreply.github.com>   \n",
       "\n",
       "                                    commiter  \\\n",
       "0                GitHub <noreply@github.com>   \n",
       "1  Stefan Birkner <github@stefan-birkner.de>   \n",
       "2  Stefan Birkner <github@stefan-birkner.de>   \n",
       "3          Kevin Cooney <kcooney@google.com>   \n",
       "4          Kevin Cooney <kcooney@google.com>   \n",
       "\n",
       "                                             message modificationKind  \\\n",
       "0  Deprecated since jdk9 replacing constructor in...                M   \n",
       "1  Change generics on ExpectedException.expectCau...                M   \n",
       "2  Change generics on ExpectedException.expectCau...                M   \n",
       "3  Do not use @Override when implementing methods...                M   \n",
       "4  Do not use @Override when implementing methods...                M   \n",
       "\n",
       "                                                file  \n",
       "0          src/main/java/junit/framework/Assert.java  \n",
       "1  src/main/java/org/junit/internal/matchers/Thro...  \n",
       "2  src/main/java/org/junit/rules/ExpectedExceptio...  \n",
       "3  src/main/java/org/junit/internal/management/Fa...  \n",
       "4  src/main/java/org/junit/internal/management/Re...  "
      ]
     },
     "execution_count": 2,
     "metadata": {},
     "output_type": "execute_result"
    }
   ],
   "source": [
    "history.head()"
   ]
  },
  {
   "cell_type": "markdown",
   "metadata": {},
   "source": [
    "## Times Each File was Modified"
   ]
  },
  {
   "cell_type": "code",
   "execution_count": 3,
   "metadata": {},
   "outputs": [
    {
     "data": {
      "text/html": [
       "<div>\n",
       "<style scoped>\n",
       "    .dataframe tbody tr th:only-of-type {\n",
       "        vertical-align: middle;\n",
       "    }\n",
       "\n",
       "    .dataframe tbody tr th {\n",
       "        vertical-align: top;\n",
       "    }\n",
       "\n",
       "    .dataframe thead th {\n",
       "        text-align: right;\n",
       "    }\n",
       "</style>\n",
       "<table border=\"1\" class=\"dataframe\">\n",
       "  <thead>\n",
       "    <tr style=\"text-align: right;\">\n",
       "      <th></th>\n",
       "      <th>changes</th>\n",
       "    </tr>\n",
       "    <tr>\n",
       "      <th>file</th>\n",
       "      <th></th>\n",
       "    </tr>\n",
       "  </thead>\n",
       "  <tbody>\n",
       "    <tr>\n",
       "      <th>.bashemtote/tags/-f</th>\n",
       "      <td>2</td>\n",
       "    </tr>\n",
       "    <tr>\n",
       "      <th>.bashemtote/tags/first_fail_ensurecommitted</th>\n",
       "      <td>2</td>\n",
       "    </tr>\n",
       "    <tr>\n",
       "      <th>.bashemtote/tags/recent_fail_ensurecommitted</th>\n",
       "      <td>2</td>\n",
       "    </tr>\n",
       "    <tr>\n",
       "      <th>.classpath</th>\n",
       "      <td>37</td>\n",
       "    </tr>\n",
       "    <tr>\n",
       "      <th>.cvsignore</th>\n",
       "      <td>16</td>\n",
       "    </tr>\n",
       "  </tbody>\n",
       "</table>\n",
       "</div>"
      ],
      "text/plain": [
       "                                              changes\n",
       "file                                                 \n",
       ".bashemtote/tags/-f                                 2\n",
       ".bashemtote/tags/first_fail_ensurecommitted         2\n",
       ".bashemtote/tags/recent_fail_ensurecommitted        2\n",
       ".classpath                                         37\n",
       ".cvsignore                                         16"
      ]
     },
     "execution_count": 3,
     "metadata": {},
     "output_type": "execute_result"
    }
   ],
   "source": [
    "file_change_count = history[\"file\"]\n",
    "\n",
    "# Clean up\n",
    "file_change_count = file_change_count.value_counts().rename_axis(\"file\").reset_index(name=\"changes\")\n",
    "file_change_count = file_change_count.sort_values(\"file\")\n",
    "file_change_count = file_change_count.set_index(\"file\")\n",
    "\n",
    "file_change_count.head()"
   ]
  },
  {
   "cell_type": "markdown",
   "metadata": {},
   "source": [
    "### Average Number of Changes"
   ]
  },
  {
   "cell_type": "markdown",
   "metadata": {},
   "source": [
    "Usually, how many changes does a file receive? And how many changes is too much?"
   ]
  },
  {
   "cell_type": "code",
   "execution_count": 4,
   "metadata": {},
   "outputs": [
    {
     "data": {
      "text/plain": [
       "9.17506078499479"
      ]
     },
     "execution_count": 4,
     "metadata": {},
     "output_type": "execute_result"
    }
   ],
   "source": [
    "changes_mean = file_change_count[\"changes\"].mean()\n",
    "changes_mean"
   ]
  },
  {
   "cell_type": "code",
   "execution_count": 5,
   "metadata": {},
   "outputs": [
    {
     "data": {
      "text/html": [
       "<div>\n",
       "<style scoped>\n",
       "    .dataframe tbody tr th:only-of-type {\n",
       "        vertical-align: middle;\n",
       "    }\n",
       "\n",
       "    .dataframe tbody tr th {\n",
       "        vertical-align: top;\n",
       "    }\n",
       "\n",
       "    .dataframe thead th {\n",
       "        text-align: right;\n",
       "    }\n",
       "</style>\n",
       "<table border=\"1\" class=\"dataframe\">\n",
       "  <thead>\n",
       "    <tr style=\"text-align: right;\">\n",
       "      <th></th>\n",
       "      <th>changes</th>\n",
       "      <th>distance</th>\n",
       "    </tr>\n",
       "    <tr>\n",
       "      <th>file</th>\n",
       "      <th></th>\n",
       "      <th></th>\n",
       "    </tr>\n",
       "  </thead>\n",
       "  <tbody>\n",
       "    <tr>\n",
       "      <th>.bashemtote/tags/-f</th>\n",
       "      <td>2</td>\n",
       "      <td>0.217982</td>\n",
       "    </tr>\n",
       "    <tr>\n",
       "      <th>.bashemtote/tags/first_fail_ensurecommitted</th>\n",
       "      <td>2</td>\n",
       "      <td>0.217982</td>\n",
       "    </tr>\n",
       "    <tr>\n",
       "      <th>.bashemtote/tags/recent_fail_ensurecommitted</th>\n",
       "      <td>2</td>\n",
       "      <td>0.217982</td>\n",
       "    </tr>\n",
       "    <tr>\n",
       "      <th>.classpath</th>\n",
       "      <td>37</td>\n",
       "      <td>4.032671</td>\n",
       "    </tr>\n",
       "    <tr>\n",
       "      <th>.cvsignore</th>\n",
       "      <td>16</td>\n",
       "      <td>1.743858</td>\n",
       "    </tr>\n",
       "  </tbody>\n",
       "</table>\n",
       "</div>"
      ],
      "text/plain": [
       "                                              changes  distance\n",
       "file                                                           \n",
       ".bashemtote/tags/-f                                 2  0.217982\n",
       ".bashemtote/tags/first_fail_ensurecommitted         2  0.217982\n",
       ".bashemtote/tags/recent_fail_ensurecommitted        2  0.217982\n",
       ".classpath                                         37  4.032671\n",
       ".cvsignore                                         16  1.743858"
      ]
     },
     "execution_count": 5,
     "metadata": {},
     "output_type": "execute_result"
    }
   ],
   "source": [
    "file_change_count[\"distance\"] = file_change_count.apply(lambda x: x[\"changes\"] / changes_mean, axis=1)\n",
    "file_change_count.head()"
   ]
  },
  {
   "cell_type": "markdown",
   "metadata": {},
   "source": [
    "### Top Most Changed Files"
   ]
  },
  {
   "cell_type": "code",
   "execution_count": 6,
   "metadata": {},
   "outputs": [
    {
     "data": {
      "text/html": [
       "<div>\n",
       "<style scoped>\n",
       "    .dataframe tbody tr th:only-of-type {\n",
       "        vertical-align: middle;\n",
       "    }\n",
       "\n",
       "    .dataframe tbody tr th {\n",
       "        vertical-align: top;\n",
       "    }\n",
       "\n",
       "    .dataframe thead th {\n",
       "        text-align: right;\n",
       "    }\n",
       "</style>\n",
       "<table border=\"1\" class=\"dataframe\">\n",
       "  <thead>\n",
       "    <tr style=\"text-align: right;\">\n",
       "      <th></th>\n",
       "      <th>changes</th>\n",
       "      <th>distance</th>\n",
       "    </tr>\n",
       "    <tr>\n",
       "      <th>file</th>\n",
       "      <th></th>\n",
       "      <th></th>\n",
       "    </tr>\n",
       "  </thead>\n",
       "  <tbody>\n",
       "    <tr>\n",
       "      <th>src/test/java/org/junit/tests/AllTests.java</th>\n",
       "      <td>225</td>\n",
       "      <td>24.522998</td>\n",
       "    </tr>\n",
       "    <tr>\n",
       "      <th>build.xml</th>\n",
       "      <td>224</td>\n",
       "      <td>24.414007</td>\n",
       "    </tr>\n",
       "    <tr>\n",
       "      <th>pom.xml</th>\n",
       "      <td>211</td>\n",
       "      <td>22.997123</td>\n",
       "    </tr>\n",
       "    <tr>\n",
       "      <th>src/main/java/org/junit/runners/BlockJUnit4ClassRunner.java</th>\n",
       "      <td>204</td>\n",
       "      <td>22.234185</td>\n",
       "    </tr>\n",
       "    <tr>\n",
       "      <th>src/main/java/org/junit/runners/ParentRunner.java</th>\n",
       "      <td>196</td>\n",
       "      <td>21.362256</td>\n",
       "    </tr>\n",
       "    <tr>\n",
       "      <th>src/main/java/org/junit/runners/Parameterized.java</th>\n",
       "      <td>158</td>\n",
       "      <td>17.220594</td>\n",
       "    </tr>\n",
       "    <tr>\n",
       "      <th>src/main/java/org/junit/Assert.java</th>\n",
       "      <td>141</td>\n",
       "      <td>15.367746</td>\n",
       "    </tr>\n",
       "    <tr>\n",
       "      <th>src/main/java/org/junit/rules/ExpectedException.java</th>\n",
       "      <td>140</td>\n",
       "      <td>15.258754</td>\n",
       "    </tr>\n",
       "  </tbody>\n",
       "</table>\n",
       "</div>"
      ],
      "text/plain": [
       "                                                    changes   distance\n",
       "file                                                                  \n",
       "src/test/java/org/junit/tests/AllTests.java             225  24.522998\n",
       "build.xml                                               224  24.414007\n",
       "pom.xml                                                 211  22.997123\n",
       "src/main/java/org/junit/runners/BlockJUnit4Clas...      204  22.234185\n",
       "src/main/java/org/junit/runners/ParentRunner.java       196  21.362256\n",
       "src/main/java/org/junit/runners/Parameterized.java      158  17.220594\n",
       "src/main/java/org/junit/Assert.java                     141  15.367746\n",
       "src/main/java/org/junit/rules/ExpectedException...      140  15.258754"
      ]
     },
     "execution_count": 6,
     "metadata": {},
     "output_type": "execute_result"
    }
   ],
   "source": [
    "top_file_change_count = file_change_count[file_change_count[\"distance\"] >= 15]\n",
    "top_file_change_count = top_file_change_count.sort_values(\"changes\", ascending=False)\n",
    "top_file_change_count"
   ]
  },
  {
   "cell_type": "markdown",
   "metadata": {},
   "source": [
    "### Hotspot diagram"
   ]
  },
  {
   "cell_type": "markdown",
   "metadata": {},
   "source": [
    "The previous data identifies those files which receive a lot of commits. But it isn't good for a global view."
   ]
  },
  {
   "cell_type": "code",
   "execution_count": 7,
   "metadata": {},
   "outputs": [
    {
     "data": {
      "text/plain": [
       "<AxesSubplot:>"
      ]
     },
     "execution_count": 7,
     "metadata": {},
     "output_type": "execute_result"
    },
    {
     "data": {
      "image/png": "[encoded data removed]",
      "text/plain": [
       "<Figure size 432x288 with 2 Axes>"
      ]
     },
     "metadata": {
      "needs_background": "light"
     },
     "output_type": "display_data"
    }
   ],
   "source": [
    "import numpy as np \n",
    "from pandas import DataFrame\n",
    "import seaborn as sns\n",
    "%matplotlib inline\n",
    "\n",
    "Index= ['aaa', 'bbb', 'ccc', 'ddd', 'eee']\n",
    "Cols = ['A', 'B', 'C', 'D']\n",
    "df = DataFrame(abs(np.random.randn(5, 4)), index=Index, columns=Cols)\n",
    "\n",
    "sns.heatmap(df, annot=True)"
   ]
  }
 ],
 "metadata": {
  "kernelspec": {
   "display_name": "Python 3",
   "language": "python",
   "name": "python3"
  },
  "language_info": {
   "codemirror_mode": {
    "name": "ipython",
    "version": 3
   },
   "file_extension": ".py",
   "mimetype": "text/x-python",
   "name": "python",
   "nbconvert_exporter": "python",
   "pygments_lexer": "ipython3",
   "version": "3.8.5"
  }
 },
 "nbformat": 4,
 "nbformat_minor": 4
}
