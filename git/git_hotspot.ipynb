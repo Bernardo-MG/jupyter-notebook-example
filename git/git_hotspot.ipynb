{
 "cells": [
  {
   "cell_type": "markdown",
   "metadata": {},
   "source": [
    "# Repository Hotspots"
   ]
  },
  {
   "cell_type": "markdown",
   "metadata": {},
   "source": [
    "We are going to see find out which files are changed the most. For this we are using a dataset created from JUnit4 with JQAssistant and the following Cypher query:"
   ]
  },
  {
   "cell_type": "markdown",
   "metadata": {},
   "source": [
    "```MATCH\n",
    "   (commit:Git:Commit),\n",
    "   (commit)-[:CONTAINS_CHANGE]->(change:Git:Change),\n",
    "   (author:Git:Author)-[:COMMITTED]->(commit),\n",
    "   (change)-[]->(file:File),\n",
    "   (class)-[:HAS_SOURCE]->(file:Git:File),\n",
    "   (package:Package)-[:CONTAINS]->(class)\n",
    "RETURN DISTINCT\n",
    "   commit.sha AS sha,\n",
    "   commit.date AS date,\n",
    "   commit.time AS time,\n",
    "   commit.author AS author,\n",
    "   author.email AS author_email,\n",
    "   author.identString AS author_id,\n",
    "   commit.committer AS commiter,\n",
    "   commit.message AS message,\n",
    "   change.modificationKind AS modificationKind,\n",
    "   file.fileName AS file,\n",
    "   class.name AS class,\n",
    "   package.fileName AS package```"
   ]
  },
  {
   "cell_type": "markdown",
   "metadata": {},
   "source": [
    "With this we have the commits history for all the files."
   ]
  },
  {
   "cell_type": "markdown",
   "metadata": {},
   "source": [
    "# Setting Up"
   ]
  },
  {
   "cell_type": "code",
   "execution_count": null,
   "metadata": {},
   "outputs": [],
   "source": [
    "import pandas as pd\n",
    "import calendar\n",
    "\n",
    "history = pd.read_json(\"../datasets/git_history_junit4.gz\", encoding='utf-8-sig')\n",
    "\n",
    "# To stop pandas from removing data\n",
    "history = history.fillna(\"\")"
   ]
  },
  {
   "cell_type": "markdown",
   "metadata": {},
   "source": [
    "# Exploring Data"
   ]
  },
  {
   "cell_type": "code",
   "execution_count": null,
   "metadata": {},
   "outputs": [],
   "source": [
    "history"
   ]
  },
  {
   "cell_type": "markdown",
   "metadata": {},
   "source": [
    "## Times Each File was Modified"
   ]
  },
  {
   "cell_type": "code",
   "execution_count": null,
   "metadata": {},
   "outputs": [],
   "source": [
    "file_change_count = history[[\"file\", \"package\"]]\n",
    "\n",
    "# Clean up\n",
    "file_change_count = file_change_count.value_counts()\n",
    "file_change_count = file_change_count.reset_index(name=\"changes\")\n",
    "file_change_count = file_change_count.sort_values(\"file\")\n",
    "file_change_count = file_change_count.set_index(\"file\")\n",
    "\n",
    "file_change_count"
   ]
  },
  {
   "cell_type": "markdown",
   "metadata": {},
   "source": [
    "### Average Number of Changes"
   ]
  },
  {
   "cell_type": "markdown",
   "metadata": {},
   "source": [
    "Usually, how many changes does a file receive? And how many changes is too much?"
   ]
  },
  {
   "cell_type": "code",
   "execution_count": null,
   "metadata": {},
   "outputs": [],
   "source": [
    "changes_mean = file_change_count[\"changes\"].mean()\n",
    "changes_mean"
   ]
  },
  {
   "cell_type": "code",
   "execution_count": null,
   "metadata": {},
   "outputs": [],
   "source": [
    "file_change_count[\"distance\"] = file_change_count.apply(lambda x: x[\"changes\"] / changes_mean, axis=1)\n",
    "file_change_count.head()"
   ]
  },
  {
   "cell_type": "markdown",
   "metadata": {},
   "source": [
    "### Top Most Changed Files"
   ]
  },
  {
   "cell_type": "code",
   "execution_count": null,
   "metadata": {},
   "outputs": [],
   "source": [
    "top_file_change_count = file_change_count[file_change_count[\"distance\"] >= 15]\n",
    "top_file_change_count = top_file_change_count.sort_values(\"changes\", ascending=False)\n",
    "top_file_change_count.head()"
   ]
  },
  {
   "cell_type": "markdown",
   "metadata": {},
   "source": [
    "### Hotspot diagram"
   ]
  },
  {
   "cell_type": "markdown",
   "metadata": {},
   "source": [
    "The previous data identifies those files which receive a lot of commits. But it isn't good for a global view. Lets group it by package."
   ]
  },
  {
   "cell_type": "code",
   "execution_count": null,
   "metadata": {},
   "outputs": [],
   "source": [
    "package_change_count = history[[\"package\"]]\n",
    "\n",
    "# Clean up\n",
    "package_change_count = package_change_count.value_counts().reset_index(name=\"changes\")\n",
    "package_change_count = package_change_count.sort_values(\"package\")\n",
    "package_change_count = package_change_count.set_index(\"package\")\n",
    "package_change_count = package_change_count.sort_values(\"changes\", ascending=False)\n",
    "\n",
    "package_change_count.head()"
   ]
  },
  {
   "cell_type": "code",
   "execution_count": null,
   "metadata": {},
   "outputs": [],
   "source": [
    "ax = package_change_count.plot.pie(y=\"changes\", legend=False)\n",
    "ax.axes.get_yaxis().get_label().set_visible(False)"
   ]
  }
 ],
 "metadata": {
  "kernelspec": {
   "display_name": "Python 3",
   "language": "python",
   "name": "python3"
  },
  "language_info": {
   "codemirror_mode": {
    "name": "ipython",
    "version": 3
   },
   "file_extension": ".py",
   "mimetype": "text/x-python",
   "name": "python",
   "nbconvert_exporter": "python",
   "pygments_lexer": "ipython3",
   "version": "3.8.5"
  }
 },
 "nbformat": 4,
 "nbformat_minor": 4
}
