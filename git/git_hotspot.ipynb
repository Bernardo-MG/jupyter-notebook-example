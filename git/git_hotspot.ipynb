{
 "cells": [
  {
   "cell_type": "markdown",
   "metadata": {},
   "source": [
    "# Repository Hotspots"
   ]
  },
  {
   "cell_type": "markdown",
   "metadata": {},
   "source": [
    "We are going to see find out which files are changed the most. For this we are using a dataset created from JUnit4 with JQAssistant and the following Cypher query:"
   ]
  },
  {
   "cell_type": "markdown",
   "metadata": {},
   "source": [
    "```MATCH\n",
    "   (commit:Git:Commit),\n",
    "   (commit)-[:CONTAINS_CHANGE]->(change:Git:Change),\n",
    "   (author:Git:Author)-[:COMMITTED]->(commit),\n",
    "   (change)-[]->(file:File)\n",
    "RETURN DISTINCT\n",
    "   commit.sha AS sha,\n",
    "   commit.date AS date,\n",
    "   commit.time AS time,\n",
    "   commit.author AS author,\n",
    "   author.email AS author_email,\n",
    "   author.identString AS author_id,\n",
    "   commit.committer AS commiter,\n",
    "   commit.message AS message,\n",
    "   change.modificationKind AS modificationKind,\n",
    "   file.fileName AS file```"
   ]
  },
  {
   "cell_type": "markdown",
   "metadata": {},
   "source": [
    "With this we have the commits history for all the files."
   ]
  },
  {
   "cell_type": "markdown",
   "metadata": {},
   "source": [
    "# Setting Up"
   ]
  },
  {
   "cell_type": "code",
   "execution_count": 1,
   "metadata": {},
   "outputs": [],
   "source": [
    "import pandas as pd\n",
    "import calendar\n",
    "history = pd.read_csv(\"../datasets/git_history_junit4.gz\")"
   ]
  },
  {
   "cell_type": "markdown",
   "metadata": {},
   "source": [
    "# Exploring Data"
   ]
  },
  {
   "cell_type": "code",
   "execution_count": 2,
   "metadata": {},
   "outputs": [
    {
     "data": {
      "text/html": [
       "<div>\n",
       "<style scoped>\n",
       "    .dataframe tbody tr th:only-of-type {\n",
       "        vertical-align: middle;\n",
       "    }\n",
       "\n",
       "    .dataframe tbody tr th {\n",
       "        vertical-align: top;\n",
       "    }\n",
       "\n",
       "    .dataframe thead th {\n",
       "        text-align: right;\n",
       "    }\n",
       "</style>\n",
       "<table border=\"1\" class=\"dataframe\">\n",
       "  <thead>\n",
       "    <tr style=\"text-align: right;\">\n",
       "      <th></th>\n",
       "      <th>sha</th>\n",
       "      <th>date</th>\n",
       "      <th>time</th>\n",
       "      <th>author</th>\n",
       "      <th>author_email</th>\n",
       "      <th>author_id</th>\n",
       "      <th>commiter</th>\n",
       "      <th>message</th>\n",
       "      <th>modificationKind</th>\n",
       "      <th>file</th>\n",
       "    </tr>\n",
       "  </thead>\n",
       "  <tbody>\n",
       "    <tr>\n",
       "      <th>0</th>\n",
       "      <td>3a5c6b4d08f408c8ca6a8e0bae71a9bc5a8f97e8</td>\n",
       "      <td>2020-08-02</td>\n",
       "      <td>20:24:18 +0200</td>\n",
       "      <td>Rahul Nagekar &lt;rahul.nagekar1@gmail.com&gt;</td>\n",
       "      <td>rahul.nagekar1@gmail.com</td>\n",
       "      <td>Rahul Nagekar &lt;rahul.nagekar1@gmail.com&gt;</td>\n",
       "      <td>GitHub &lt;noreply@github.com&gt;</td>\n",
       "      <td>Deprecated since jdk9 replacing constructor in...</td>\n",
       "      <td>NaN</td>\n",
       "      <td>NaN</td>\n",
       "    </tr>\n",
       "    <tr>\n",
       "      <th>1</th>\n",
       "      <td>Replacing deprecated datatype constructors</td>\n",
       "      <td>M</td>\n",
       "      <td>src/main/java/junit/framework/Assert.java</td>\n",
       "      <td>NaN</td>\n",
       "      <td>NaN</td>\n",
       "      <td>NaN</td>\n",
       "      <td>NaN</td>\n",
       "      <td>NaN</td>\n",
       "      <td>NaN</td>\n",
       "      <td>NaN</td>\n",
       "    </tr>\n",
       "    <tr>\n",
       "      <th>2</th>\n",
       "      <td>44cd8f80dbac11849a42a5d73fc9b5ddc75cd1b4</td>\n",
       "      <td>2016-12-01</td>\n",
       "      <td>21:35:45 +0100</td>\n",
       "      <td>Kevin Cooney &lt;kcooney@google.com&gt;</td>\n",
       "      <td>kcooney@users.noreply.github.com</td>\n",
       "      <td>Kevin Cooney &lt;kcooney@users.noreply.github.com&gt;</td>\n",
       "      <td>Stefan Birkner &lt;github@stefan-birkner.de&gt;</td>\n",
       "      <td>Change generics on ExpectedException.expectCau...</td>\n",
       "      <td>M</td>\n",
       "      <td>src/main/java/org/junit/internal/matchers/Thro...</td>\n",
       "    </tr>\n",
       "    <tr>\n",
       "      <th>3</th>\n",
       "      <td>44cd8f80dbac11849a42a5d73fc9b5ddc75cd1b4</td>\n",
       "      <td>2016-12-01</td>\n",
       "      <td>21:35:45 +0100</td>\n",
       "      <td>Kevin Cooney &lt;kcooney@google.com&gt;</td>\n",
       "      <td>kcooney@users.noreply.github.com</td>\n",
       "      <td>Kevin Cooney &lt;kcooney@users.noreply.github.com&gt;</td>\n",
       "      <td>Stefan Birkner &lt;github@stefan-birkner.de&gt;</td>\n",
       "      <td>Change generics on ExpectedException.expectCau...</td>\n",
       "      <td>M</td>\n",
       "      <td>src/main/java/org/junit/rules/ExpectedExceptio...</td>\n",
       "    </tr>\n",
       "    <tr>\n",
       "      <th>4</th>\n",
       "      <td>8baae6ecd6e719c8de58bac1a191de2badd78ed3</td>\n",
       "      <td>2016-12-08</td>\n",
       "      <td>19:16:32 +0100</td>\n",
       "      <td>Kevin Cooney &lt;kcooney@google.com&gt;</td>\n",
       "      <td>kcooney@users.noreply.github.com</td>\n",
       "      <td>Kevin Cooney &lt;kcooney@users.noreply.github.com&gt;</td>\n",
       "      <td>Kevin Cooney &lt;kcooney@google.com&gt;</td>\n",
       "      <td>Do not use @Override when implementing methods...</td>\n",
       "      <td>NaN</td>\n",
       "      <td>NaN</td>\n",
       "    </tr>\n",
       "  </tbody>\n",
       "</table>\n",
       "</div>"
      ],
      "text/plain": [
       "                                          sha        date  \\\n",
       "0    3a5c6b4d08f408c8ca6a8e0bae71a9bc5a8f97e8  2020-08-02   \n",
       "1  Replacing deprecated datatype constructors           M   \n",
       "2    44cd8f80dbac11849a42a5d73fc9b5ddc75cd1b4  2016-12-01   \n",
       "3    44cd8f80dbac11849a42a5d73fc9b5ddc75cd1b4  2016-12-01   \n",
       "4    8baae6ecd6e719c8de58bac1a191de2badd78ed3  2016-12-08   \n",
       "\n",
       "                                        time  \\\n",
       "0                             20:24:18 +0200   \n",
       "1  src/main/java/junit/framework/Assert.java   \n",
       "2                             21:35:45 +0100   \n",
       "3                             21:35:45 +0100   \n",
       "4                             19:16:32 +0100   \n",
       "\n",
       "                                     author                      author_email  \\\n",
       "0  Rahul Nagekar <rahul.nagekar1@gmail.com>          rahul.nagekar1@gmail.com   \n",
       "1                                       NaN                               NaN   \n",
       "2         Kevin Cooney <kcooney@google.com>  kcooney@users.noreply.github.com   \n",
       "3         Kevin Cooney <kcooney@google.com>  kcooney@users.noreply.github.com   \n",
       "4         Kevin Cooney <kcooney@google.com>  kcooney@users.noreply.github.com   \n",
       "\n",
       "                                         author_id  \\\n",
       "0         Rahul Nagekar <rahul.nagekar1@gmail.com>   \n",
       "1                                              NaN   \n",
       "2  Kevin Cooney <kcooney@users.noreply.github.com>   \n",
       "3  Kevin Cooney <kcooney@users.noreply.github.com>   \n",
       "4  Kevin Cooney <kcooney@users.noreply.github.com>   \n",
       "\n",
       "                                    commiter  \\\n",
       "0                GitHub <noreply@github.com>   \n",
       "1                                        NaN   \n",
       "2  Stefan Birkner <github@stefan-birkner.de>   \n",
       "3  Stefan Birkner <github@stefan-birkner.de>   \n",
       "4          Kevin Cooney <kcooney@google.com>   \n",
       "\n",
       "                                             message modificationKind  \\\n",
       "0  Deprecated since jdk9 replacing constructor in...              NaN   \n",
       "1                                                NaN              NaN   \n",
       "2  Change generics on ExpectedException.expectCau...                M   \n",
       "3  Change generics on ExpectedException.expectCau...                M   \n",
       "4  Do not use @Override when implementing methods...              NaN   \n",
       "\n",
       "                                                file  \n",
       "0                                                NaN  \n",
       "1                                                NaN  \n",
       "2  src/main/java/org/junit/internal/matchers/Thro...  \n",
       "3  src/main/java/org/junit/rules/ExpectedExceptio...  \n",
       "4                                                NaN  "
      ]
     },
     "execution_count": 2,
     "metadata": {},
     "output_type": "execute_result"
    }
   ],
   "source": [
    "history.head()"
   ]
  },
  {
   "cell_type": "markdown",
   "metadata": {},
   "source": [
    "## Times Each File was Modified"
   ]
  },
  {
   "cell_type": "code",
   "execution_count": 3,
   "metadata": {},
   "outputs": [
    {
     "data": {
      "text/html": [
       "<div>\n",
       "<style scoped>\n",
       "    .dataframe tbody tr th:only-of-type {\n",
       "        vertical-align: middle;\n",
       "    }\n",
       "\n",
       "    .dataframe tbody tr th {\n",
       "        vertical-align: top;\n",
       "    }\n",
       "\n",
       "    .dataframe thead th {\n",
       "        text-align: right;\n",
       "    }\n",
       "</style>\n",
       "<table border=\"1\" class=\"dataframe\">\n",
       "  <thead>\n",
       "    <tr style=\"text-align: right;\">\n",
       "      <th></th>\n",
       "      <th>changes</th>\n",
       "    </tr>\n",
       "    <tr>\n",
       "      <th>file</th>\n",
       "      <th></th>\n",
       "    </tr>\n",
       "  </thead>\n",
       "  <tbody>\n",
       "    <tr>\n",
       "      <th>.bashemtote/tags/-f</th>\n",
       "      <td>1</td>\n",
       "    </tr>\n",
       "    <tr>\n",
       "      <th>.bashemtote/tags/first_fail_ensurecommitted</th>\n",
       "      <td>1</td>\n",
       "    </tr>\n",
       "    <tr>\n",
       "      <th>.bashemtote/tags/recent_fail_ensurecommitted</th>\n",
       "      <td>1</td>\n",
       "    </tr>\n",
       "    <tr>\n",
       "      <th>.classpath</th>\n",
       "      <td>8</td>\n",
       "    </tr>\n",
       "    <tr>\n",
       "      <th>.cvsignore</th>\n",
       "      <td>4</td>\n",
       "    </tr>\n",
       "  </tbody>\n",
       "</table>\n",
       "</div>"
      ],
      "text/plain": [
       "                                              changes\n",
       "file                                                 \n",
       ".bashemtote/tags/-f                                 1\n",
       ".bashemtote/tags/first_fail_ensurecommitted         1\n",
       ".bashemtote/tags/recent_fail_ensurecommitted        1\n",
       ".classpath                                          8\n",
       ".cvsignore                                          4"
      ]
     },
     "execution_count": 3,
     "metadata": {},
     "output_type": "execute_result"
    }
   ],
   "source": [
    "file_change_count = history[\"file\"]\n",
    "\n",
    "# Reject rows with NaN\n",
    "file_change_count = file_change_count.dropna()\n",
    "\n",
    "# Clean up\n",
    "file_change_count = file_change_count.value_counts().rename_axis(\"file\").reset_index(name=\"changes\")\n",
    "file_change_count = file_change_count.sort_values(\"file\")\n",
    "file_change_count = file_change_count.set_index(\"file\")\n",
    "\n",
    "file_change_count.head()"
   ]
  },
  {
   "cell_type": "markdown",
   "metadata": {},
   "source": [
    "### Average Number of Changes"
   ]
  },
  {
   "cell_type": "markdown",
   "metadata": {},
   "source": [
    "Usually, how many changes does a file receive? And how many changes is too much?"
   ]
  },
  {
   "cell_type": "code",
   "execution_count": 18,
   "metadata": {},
   "outputs": [
    {
     "data": {
      "text/plain": [
       "1.9396914446002804"
      ]
     },
     "execution_count": 18,
     "metadata": {},
     "output_type": "execute_result"
    }
   ],
   "source": [
    "changes_mean = file_change_count[\"changes\"].mean()\n",
    "changes_mean"
   ]
  },
  {
   "cell_type": "code",
   "execution_count": 7,
   "metadata": {},
   "outputs": [
    {
     "data": {
      "text/html": [
       "<div>\n",
       "<style scoped>\n",
       "    .dataframe tbody tr th:only-of-type {\n",
       "        vertical-align: middle;\n",
       "    }\n",
       "\n",
       "    .dataframe tbody tr th {\n",
       "        vertical-align: top;\n",
       "    }\n",
       "\n",
       "    .dataframe thead th {\n",
       "        text-align: right;\n",
       "    }\n",
       "</style>\n",
       "<table border=\"1\" class=\"dataframe\">\n",
       "  <thead>\n",
       "    <tr style=\"text-align: right;\">\n",
       "      <th></th>\n",
       "      <th>changes</th>\n",
       "      <th>distance</th>\n",
       "    </tr>\n",
       "    <tr>\n",
       "      <th>file</th>\n",
       "      <th></th>\n",
       "      <th></th>\n",
       "    </tr>\n",
       "  </thead>\n",
       "  <tbody>\n",
       "    <tr>\n",
       "      <th>.bashemtote/tags/-f</th>\n",
       "      <td>1</td>\n",
       "      <td>0.515546</td>\n",
       "    </tr>\n",
       "    <tr>\n",
       "      <th>.bashemtote/tags/first_fail_ensurecommitted</th>\n",
       "      <td>1</td>\n",
       "      <td>0.515546</td>\n",
       "    </tr>\n",
       "    <tr>\n",
       "      <th>.bashemtote/tags/recent_fail_ensurecommitted</th>\n",
       "      <td>1</td>\n",
       "      <td>0.515546</td>\n",
       "    </tr>\n",
       "    <tr>\n",
       "      <th>.classpath</th>\n",
       "      <td>8</td>\n",
       "      <td>4.124367</td>\n",
       "    </tr>\n",
       "    <tr>\n",
       "      <th>.cvsignore</th>\n",
       "      <td>4</td>\n",
       "      <td>2.062184</td>\n",
       "    </tr>\n",
       "  </tbody>\n",
       "</table>\n",
       "</div>"
      ],
      "text/plain": [
       "                                              changes  distance\n",
       "file                                                           \n",
       ".bashemtote/tags/-f                                 1  0.515546\n",
       ".bashemtote/tags/first_fail_ensurecommitted         1  0.515546\n",
       ".bashemtote/tags/recent_fail_ensurecommitted        1  0.515546\n",
       ".classpath                                          8  4.124367\n",
       ".cvsignore                                          4  2.062184"
      ]
     },
     "execution_count": 7,
     "metadata": {},
     "output_type": "execute_result"
    }
   ],
   "source": [
    "file_change_count[\"distance\"] = file_change_count.apply(lambda x: x[\"changes\"] / changes_mean, axis=1)\n",
    "file_change_count.head()"
   ]
  },
  {
   "cell_type": "markdown",
   "metadata": {},
   "source": [
    "### Top Most Changed Files"
   ]
  },
  {
   "cell_type": "code",
   "execution_count": 22,
   "metadata": {},
   "outputs": [
    {
     "data": {
      "text/html": [
       "<div>\n",
       "<style scoped>\n",
       "    .dataframe tbody tr th:only-of-type {\n",
       "        vertical-align: middle;\n",
       "    }\n",
       "\n",
       "    .dataframe tbody tr th {\n",
       "        vertical-align: top;\n",
       "    }\n",
       "\n",
       "    .dataframe thead th {\n",
       "        text-align: right;\n",
       "    }\n",
       "</style>\n",
       "<table border=\"1\" class=\"dataframe\">\n",
       "  <thead>\n",
       "    <tr style=\"text-align: right;\">\n",
       "      <th></th>\n",
       "      <th>changes</th>\n",
       "      <th>distance</th>\n",
       "    </tr>\n",
       "    <tr>\n",
       "      <th>file</th>\n",
       "      <th></th>\n",
       "      <th></th>\n",
       "    </tr>\n",
       "  </thead>\n",
       "  <tbody>\n",
       "    <tr>\n",
       "      <th>src/test/java/org/junit/tests/AllTests.java</th>\n",
       "      <td>44</td>\n",
       "      <td>22.684020</td>\n",
       "    </tr>\n",
       "    <tr>\n",
       "      <th>src/main/java/org/junit/runners/ParentRunner.java</th>\n",
       "      <td>34</td>\n",
       "      <td>17.528561</td>\n",
       "    </tr>\n",
       "    <tr>\n",
       "      <th>build.xml</th>\n",
       "      <td>31</td>\n",
       "      <td>15.981923</td>\n",
       "    </tr>\n",
       "    <tr>\n",
       "      <th>pom.xml</th>\n",
       "      <td>29</td>\n",
       "      <td>14.950832</td>\n",
       "    </tr>\n",
       "    <tr>\n",
       "      <th>src/main/java/org/junit/rules/ExpectedException.java</th>\n",
       "      <td>26</td>\n",
       "      <td>13.404194</td>\n",
       "    </tr>\n",
       "    <tr>\n",
       "      <th>src/main/java/org/junit/runners/Parameterized.java</th>\n",
       "      <td>25</td>\n",
       "      <td>12.888648</td>\n",
       "    </tr>\n",
       "    <tr>\n",
       "      <th>src/main/java/org/junit/experimental/theories/internal/AllMembersSupplier.java</th>\n",
       "      <td>24</td>\n",
       "      <td>12.373102</td>\n",
       "    </tr>\n",
       "    <tr>\n",
       "      <th>src/main/java/org/junit/runners/BlockJUnit4ClassRunner.java</th>\n",
       "      <td>24</td>\n",
       "      <td>12.373102</td>\n",
       "    </tr>\n",
       "    <tr>\n",
       "      <th>src/main/java/org/junit/Assert.java</th>\n",
       "      <td>23</td>\n",
       "      <td>11.857556</td>\n",
       "    </tr>\n",
       "    <tr>\n",
       "      <th>src/main/java/org/junit/experimental/theories/Theories.java</th>\n",
       "      <td>22</td>\n",
       "      <td>11.342010</td>\n",
       "    </tr>\n",
       "    <tr>\n",
       "      <th>src/main/java/org/junit/runners/model/FrameworkMethod.java</th>\n",
       "      <td>21</td>\n",
       "      <td>10.826464</td>\n",
       "    </tr>\n",
       "    <tr>\n",
       "      <th>src/main/java/org/junit/runner/Description.java</th>\n",
       "      <td>20</td>\n",
       "      <td>10.310918</td>\n",
       "    </tr>\n",
       "  </tbody>\n",
       "</table>\n",
       "</div>"
      ],
      "text/plain": [
       "                                                    changes   distance\n",
       "file                                                                  \n",
       "src/test/java/org/junit/tests/AllTests.java              44  22.684020\n",
       "src/main/java/org/junit/runners/ParentRunner.java        34  17.528561\n",
       "build.xml                                                31  15.981923\n",
       "pom.xml                                                  29  14.950832\n",
       "src/main/java/org/junit/rules/ExpectedException...       26  13.404194\n",
       "src/main/java/org/junit/runners/Parameterized.java       25  12.888648\n",
       "src/main/java/org/junit/experimental/theories/i...       24  12.373102\n",
       "src/main/java/org/junit/runners/BlockJUnit4Clas...       24  12.373102\n",
       "src/main/java/org/junit/Assert.java                      23  11.857556\n",
       "src/main/java/org/junit/experimental/theories/T...       22  11.342010\n",
       "src/main/java/org/junit/runners/model/Framework...       21  10.826464\n",
       "src/main/java/org/junit/runner/Description.java          20  10.310918"
      ]
     },
     "execution_count": 22,
     "metadata": {},
     "output_type": "execute_result"
    }
   ],
   "source": [
    "top_file_change_count = top_file_change_count[top_file_change_count[\"distance\"] >= 10]\n",
    "top_file_change_count = top_file_change_count.sort_values(\"changes\", ascending=False)\n",
    "top_file_change_count"
   ]
  },
  {
   "cell_type": "markdown",
   "metadata": {},
   "source": [
    "### Hotspot diagram"
   ]
  },
  {
   "cell_type": "markdown",
   "metadata": {},
   "source": [
    "The previous data identifies those files which receive a lot of commits. But it isn't good for a global view."
   ]
  },
  {
   "cell_type": "code",
   "execution_count": 24,
   "metadata": {},
   "outputs": [
    {
     "data": {
      "text/plain": [
       "<AxesSubplot:>"
      ]
     },
     "execution_count": 24,
     "metadata": {},
     "output_type": "execute_result"
    },
    {
     "data": {
      "image/png": "[encoded data removed]",
      "text/plain": [
       "<Figure size 432x288 with 2 Axes>"
      ]
     },
     "metadata": {
      "needs_background": "light"
     },
     "output_type": "display_data"
    }
   ],
   "source": [
    "import numpy as np \n",
    "from pandas import DataFrame\n",
    "import seaborn as sns\n",
    "%matplotlib inline\n",
    "\n",
    "Index= ['aaa', 'bbb', 'ccc', 'ddd', 'eee']\n",
    "Cols = ['A', 'B', 'C', 'D']\n",
    "df = DataFrame(abs(np.random.randn(5, 4)), index=Index, columns=Cols)\n",
    "\n",
    "sns.heatmap(df, annot=True)"
   ]
  }
 ],
 "metadata": {
  "kernelspec": {
   "display_name": "Python 3",
   "language": "python",
   "name": "python3"
  },
  "language_info": {
   "codemirror_mode": {
    "name": "ipython",
    "version": 3
   },
   "file_extension": ".py",
   "mimetype": "text/x-python",
   "name": "python",
   "nbconvert_exporter": "python",
   "pygments_lexer": "ipython3",
   "version": "3.8.1"
  }
 },
 "nbformat": 4,
 "nbformat_minor": 4
}
