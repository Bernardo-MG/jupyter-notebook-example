{
 "cells": [
  {
   "cell_type": "markdown",
   "metadata": {},
   "source": [
    "# Repository Hotspots"
   ]
  },
  {
   "cell_type": "markdown",
   "metadata": {},
   "source": [
    "We are going to see find out which files are changed the most. For this we are using a dataset created from JUnit4 with JQAssistant and the following Cypher query:"
   ]
  },
  {
   "cell_type": "markdown",
   "metadata": {},
   "source": [
    "```MATCH\n",
    "   (commit:Git:Commit),\n",
    "   (commit)-[:CONTAINS_CHANGE]->(change:Git:Change),\n",
    "   (author:Git:Author)-[:COMMITTED]->(commit),\n",
    "   (change)-[]->(file:File),\n",
    "   (class)-[:HAS_SOURCE]->(file:Git:File),\n",
    "   (package:Package)-[:CONTAINS]->(class)\n",
    "RETURN DISTINCT\n",
    "   commit.sha AS sha,\n",
    "   commit.date AS date,\n",
    "   commit.time AS time,\n",
    "   commit.author AS author,\n",
    "   author.email AS author_email,\n",
    "   author.identString AS author_id,\n",
    "   commit.committer AS commiter,\n",
    "   commit.message AS message,\n",
    "   change.modificationKind AS modificationKind,\n",
    "   file.fileName AS file,\n",
    "   class.name AS class,\n",
    "   package.fileName AS package```"
   ]
  },
  {
   "cell_type": "markdown",
   "metadata": {},
   "source": [
    "With this we have the commits history for all the files."
   ]
  },
  {
   "cell_type": "markdown",
   "metadata": {},
   "source": [
    "# Setting Up"
   ]
  },
  {
   "cell_type": "code",
   "execution_count": 1,
   "metadata": {},
   "outputs": [],
   "source": [
    "import pandas as pd\n",
    "import calendar\n",
    "\n",
    "history = pd.read_json(\"../datasets/git_history_junit4.gz\", encoding='utf-8-sig')"
   ]
  },
  {
   "cell_type": "markdown",
   "metadata": {},
   "source": [
    "# Exploring Data"
   ]
  },
  {
   "cell_type": "code",
   "execution_count": 2,
   "metadata": {},
   "outputs": [
    {
     "data": {
      "text/html": [
       "<div>\n",
       "<style scoped>\n",
       "    .dataframe tbody tr th:only-of-type {\n",
       "        vertical-align: middle;\n",
       "    }\n",
       "\n",
       "    .dataframe tbody tr th {\n",
       "        vertical-align: top;\n",
       "    }\n",
       "\n",
       "    .dataframe thead th {\n",
       "        text-align: right;\n",
       "    }\n",
       "</style>\n",
       "<table border=\"1\" class=\"dataframe\">\n",
       "  <thead>\n",
       "    <tr style=\"text-align: right;\">\n",
       "      <th></th>\n",
       "      <th>sha</th>\n",
       "      <th>date</th>\n",
       "      <th>time</th>\n",
       "      <th>author</th>\n",
       "      <th>author_email</th>\n",
       "      <th>author_id</th>\n",
       "      <th>commiter</th>\n",
       "      <th>message</th>\n",
       "      <th>modificationKind</th>\n",
       "      <th>file</th>\n",
       "      <th>fileType</th>\n",
       "      <th>class</th>\n",
       "      <th>package</th>\n",
       "    </tr>\n",
       "  </thead>\n",
       "  <tbody>\n",
       "    <tr>\n",
       "      <th>0</th>\n",
       "      <td>3a5c6b4d08f408c8ca6a8e0bae71a9bc5a8f97e8</td>\n",
       "      <td>2020-08-02</td>\n",
       "      <td>20:24:18 +0200</td>\n",
       "      <td>Rahul Nagekar &lt;rahul.nagekar1@gmail.com&gt;</td>\n",
       "      <td>rahul.nagekar1@gmail.com</td>\n",
       "      <td>Rahul Nagekar &lt;rahul.nagekar1@gmail.com&gt;</td>\n",
       "      <td>GitHub &lt;noreply@github.com&gt;</td>\n",
       "      <td>Deprecated since jdk9 replacing constructor in...</td>\n",
       "      <td>M</td>\n",
       "      <td>src/main/java/junit/framework/Assert.java</td>\n",
       "      <td>java</td>\n",
       "      <td>Assert</td>\n",
       "      <td>/junit/framework</td>\n",
       "    </tr>\n",
       "    <tr>\n",
       "      <th>1</th>\n",
       "      <td>44cd8f80dbac11849a42a5d73fc9b5ddc75cd1b4</td>\n",
       "      <td>2016-12-01</td>\n",
       "      <td>21:35:45 +0100</td>\n",
       "      <td>Kevin Cooney &lt;kcooney@google.com&gt;</td>\n",
       "      <td>kcooney@users.noreply.github.com</td>\n",
       "      <td>Kevin Cooney &lt;kcooney@users.noreply.github.com&gt;</td>\n",
       "      <td>Stefan Birkner &lt;github@stefan-birkner.de&gt;</td>\n",
       "      <td>Change generics on ExpectedException.expectCau...</td>\n",
       "      <td>M</td>\n",
       "      <td>src/main/java/org/junit/internal/matchers/Thro...</td>\n",
       "      <td>java</td>\n",
       "      <td>ThrowableCauseMatcher</td>\n",
       "      <td>/org/junit/internal/matchers</td>\n",
       "    </tr>\n",
       "    <tr>\n",
       "      <th>2</th>\n",
       "      <td>44cd8f80dbac11849a42a5d73fc9b5ddc75cd1b4</td>\n",
       "      <td>2016-12-01</td>\n",
       "      <td>21:35:45 +0100</td>\n",
       "      <td>Kevin Cooney &lt;kcooney@google.com&gt;</td>\n",
       "      <td>kcooney@users.noreply.github.com</td>\n",
       "      <td>Kevin Cooney &lt;kcooney@users.noreply.github.com&gt;</td>\n",
       "      <td>Stefan Birkner &lt;github@stefan-birkner.de&gt;</td>\n",
       "      <td>Change generics on ExpectedException.expectCau...</td>\n",
       "      <td>M</td>\n",
       "      <td>src/main/java/org/junit/rules/ExpectedExceptio...</td>\n",
       "      <td>java</td>\n",
       "      <td>ExpectedException</td>\n",
       "      <td>/org/junit/rules</td>\n",
       "    </tr>\n",
       "    <tr>\n",
       "      <th>3</th>\n",
       "      <td>44cd8f80dbac11849a42a5d73fc9b5ddc75cd1b4</td>\n",
       "      <td>2016-12-01</td>\n",
       "      <td>21:35:45 +0100</td>\n",
       "      <td>Kevin Cooney &lt;kcooney@google.com&gt;</td>\n",
       "      <td>kcooney@users.noreply.github.com</td>\n",
       "      <td>Kevin Cooney &lt;kcooney@users.noreply.github.com&gt;</td>\n",
       "      <td>Stefan Birkner &lt;github@stefan-birkner.de&gt;</td>\n",
       "      <td>Change generics on ExpectedException.expectCau...</td>\n",
       "      <td>M</td>\n",
       "      <td>src/main/java/org/junit/rules/ExpectedExceptio...</td>\n",
       "      <td>java</td>\n",
       "      <td>ExpectedException$ExpectedExceptionStatement</td>\n",
       "      <td>/org/junit/rules</td>\n",
       "    </tr>\n",
       "    <tr>\n",
       "      <th>4</th>\n",
       "      <td>8baae6ecd6e719c8de58bac1a191de2badd78ed3</td>\n",
       "      <td>2016-12-08</td>\n",
       "      <td>19:16:32 +0100</td>\n",
       "      <td>Kevin Cooney &lt;kcooney@google.com&gt;</td>\n",
       "      <td>kcooney@users.noreply.github.com</td>\n",
       "      <td>Kevin Cooney &lt;kcooney@users.noreply.github.com&gt;</td>\n",
       "      <td>Kevin Cooney &lt;kcooney@google.com&gt;</td>\n",
       "      <td>Do not use @Override when implementing methods...</td>\n",
       "      <td>M</td>\n",
       "      <td>src/main/java/org/junit/internal/management/Fa...</td>\n",
       "      <td>java</td>\n",
       "      <td>FakeThreadMXBean</td>\n",
       "      <td>/org/junit/internal/management</td>\n",
       "    </tr>\n",
       "  </tbody>\n",
       "</table>\n",
       "</div>"
      ],
      "text/plain": [
       "                                        sha       date            time  \\\n",
       "0  3a5c6b4d08f408c8ca6a8e0bae71a9bc5a8f97e8 2020-08-02  20:24:18 +0200   \n",
       "1  44cd8f80dbac11849a42a5d73fc9b5ddc75cd1b4 2016-12-01  21:35:45 +0100   \n",
       "2  44cd8f80dbac11849a42a5d73fc9b5ddc75cd1b4 2016-12-01  21:35:45 +0100   \n",
       "3  44cd8f80dbac11849a42a5d73fc9b5ddc75cd1b4 2016-12-01  21:35:45 +0100   \n",
       "4  8baae6ecd6e719c8de58bac1a191de2badd78ed3 2016-12-08  19:16:32 +0100   \n",
       "\n",
       "                                     author                      author_email  \\\n",
       "0  Rahul Nagekar <rahul.nagekar1@gmail.com>          rahul.nagekar1@gmail.com   \n",
       "1         Kevin Cooney <kcooney@google.com>  kcooney@users.noreply.github.com   \n",
       "2         Kevin Cooney <kcooney@google.com>  kcooney@users.noreply.github.com   \n",
       "3         Kevin Cooney <kcooney@google.com>  kcooney@users.noreply.github.com   \n",
       "4         Kevin Cooney <kcooney@google.com>  kcooney@users.noreply.github.com   \n",
       "\n",
       "                                         author_id  \\\n",
       "0         Rahul Nagekar <rahul.nagekar1@gmail.com>   \n",
       "1  Kevin Cooney <kcooney@users.noreply.github.com>   \n",
       "2  Kevin Cooney <kcooney@users.noreply.github.com>   \n",
       "3  Kevin Cooney <kcooney@users.noreply.github.com>   \n",
       "4  Kevin Cooney <kcooney@users.noreply.github.com>   \n",
       "\n",
       "                                    commiter  \\\n",
       "0                GitHub <noreply@github.com>   \n",
       "1  Stefan Birkner <github@stefan-birkner.de>   \n",
       "2  Stefan Birkner <github@stefan-birkner.de>   \n",
       "3  Stefan Birkner <github@stefan-birkner.de>   \n",
       "4          Kevin Cooney <kcooney@google.com>   \n",
       "\n",
       "                                             message modificationKind  \\\n",
       "0  Deprecated since jdk9 replacing constructor in...                M   \n",
       "1  Change generics on ExpectedException.expectCau...                M   \n",
       "2  Change generics on ExpectedException.expectCau...                M   \n",
       "3  Change generics on ExpectedException.expectCau...                M   \n",
       "4  Do not use @Override when implementing methods...                M   \n",
       "\n",
       "                                                file fileType  \\\n",
       "0          src/main/java/junit/framework/Assert.java     java   \n",
       "1  src/main/java/org/junit/internal/matchers/Thro...     java   \n",
       "2  src/main/java/org/junit/rules/ExpectedExceptio...     java   \n",
       "3  src/main/java/org/junit/rules/ExpectedExceptio...     java   \n",
       "4  src/main/java/org/junit/internal/management/Fa...     java   \n",
       "\n",
       "                                          class  \\\n",
       "0                                        Assert   \n",
       "1                         ThrowableCauseMatcher   \n",
       "2                             ExpectedException   \n",
       "3  ExpectedException$ExpectedExceptionStatement   \n",
       "4                              FakeThreadMXBean   \n",
       "\n",
       "                          package  \n",
       "0                /junit/framework  \n",
       "1    /org/junit/internal/matchers  \n",
       "2                /org/junit/rules  \n",
       "3                /org/junit/rules  \n",
       "4  /org/junit/internal/management  "
      ]
     },
     "execution_count": 2,
     "metadata": {},
     "output_type": "execute_result"
    }
   ],
   "source": [
    "history.head()"
   ]
  },
  {
   "cell_type": "markdown",
   "metadata": {},
   "source": [
    "## Times Each File was Modified"
   ]
  },
  {
   "cell_type": "code",
   "execution_count": 3,
   "metadata": {},
   "outputs": [
    {
     "data": {
      "text/html": [
       "<div>\n",
       "<style scoped>\n",
       "    .dataframe tbody tr th:only-of-type {\n",
       "        vertical-align: middle;\n",
       "    }\n",
       "\n",
       "    .dataframe tbody tr th {\n",
       "        vertical-align: top;\n",
       "    }\n",
       "\n",
       "    .dataframe thead th {\n",
       "        text-align: right;\n",
       "    }\n",
       "</style>\n",
       "<table border=\"1\" class=\"dataframe\">\n",
       "  <thead>\n",
       "    <tr style=\"text-align: right;\">\n",
       "      <th></th>\n",
       "      <th>package</th>\n",
       "      <th>changes</th>\n",
       "    </tr>\n",
       "    <tr>\n",
       "      <th>file</th>\n",
       "      <th></th>\n",
       "      <th></th>\n",
       "    </tr>\n",
       "  </thead>\n",
       "  <tbody>\n",
       "    <tr>\n",
       "      <th>src/junit/extensions/ActiveTestSuite.java</th>\n",
       "      <td>/junit/extensions</td>\n",
       "      <td>4</td>\n",
       "    </tr>\n",
       "    <tr>\n",
       "      <th>src/junit/extensions/RepeatedTest.java</th>\n",
       "      <td>/junit/extensions</td>\n",
       "      <td>3</td>\n",
       "    </tr>\n",
       "    <tr>\n",
       "      <th>src/junit/extensions/TestDecorator.java</th>\n",
       "      <td>/junit/extensions</td>\n",
       "      <td>2</td>\n",
       "    </tr>\n",
       "    <tr>\n",
       "      <th>src/junit/extensions/TestSetup.java</th>\n",
       "      <td>/junit/extensions</td>\n",
       "      <td>4</td>\n",
       "    </tr>\n",
       "    <tr>\n",
       "      <th>src/junit/framework/Assert.java</th>\n",
       "      <td>/junit/framework</td>\n",
       "      <td>2</td>\n",
       "    </tr>\n",
       "  </tbody>\n",
       "</table>\n",
       "</div>"
      ],
      "text/plain": [
       "                                                     package  changes\n",
       "file                                                                 \n",
       "src/junit/extensions/ActiveTestSuite.java  /junit/extensions        4\n",
       "src/junit/extensions/RepeatedTest.java     /junit/extensions        3\n",
       "src/junit/extensions/TestDecorator.java    /junit/extensions        2\n",
       "src/junit/extensions/TestSetup.java        /junit/extensions        4\n",
       "src/junit/framework/Assert.java             /junit/framework        2"
      ]
     },
     "execution_count": 3,
     "metadata": {},
     "output_type": "execute_result"
    }
   ],
   "source": [
    "file_change_count = history[[\"file\", \"package\"]]\n",
    "\n",
    "# Clean up\n",
    "file_change_count = file_change_count.value_counts().reset_index(name=\"changes\")\n",
    "file_change_count = file_change_count.sort_values(\"file\")\n",
    "file_change_count = file_change_count.set_index(\"file\")\n",
    "\n",
    "file_change_count.head()"
   ]
  },
  {
   "cell_type": "markdown",
   "metadata": {},
   "source": [
    "### Average Number of Changes"
   ]
  },
  {
   "cell_type": "markdown",
   "metadata": {},
   "source": [
    "Usually, how many changes does a file receive? And how many changes is too much?"
   ]
  },
  {
   "cell_type": "code",
   "execution_count": 4,
   "metadata": {},
   "outputs": [
    {
     "data": {
      "text/plain": [
       "54.64965986394558"
      ]
     },
     "execution_count": 4,
     "metadata": {},
     "output_type": "execute_result"
    }
   ],
   "source": [
    "changes_mean = file_change_count[\"changes\"].mean()\n",
    "changes_mean"
   ]
  },
  {
   "cell_type": "code",
   "execution_count": 5,
   "metadata": {},
   "outputs": [
    {
     "data": {
      "text/html": [
       "<div>\n",
       "<style scoped>\n",
       "    .dataframe tbody tr th:only-of-type {\n",
       "        vertical-align: middle;\n",
       "    }\n",
       "\n",
       "    .dataframe tbody tr th {\n",
       "        vertical-align: top;\n",
       "    }\n",
       "\n",
       "    .dataframe thead th {\n",
       "        text-align: right;\n",
       "    }\n",
       "</style>\n",
       "<table border=\"1\" class=\"dataframe\">\n",
       "  <thead>\n",
       "    <tr style=\"text-align: right;\">\n",
       "      <th></th>\n",
       "      <th>package</th>\n",
       "      <th>changes</th>\n",
       "      <th>distance</th>\n",
       "    </tr>\n",
       "    <tr>\n",
       "      <th>file</th>\n",
       "      <th></th>\n",
       "      <th></th>\n",
       "      <th></th>\n",
       "    </tr>\n",
       "  </thead>\n",
       "  <tbody>\n",
       "    <tr>\n",
       "      <th>src/junit/extensions/ActiveTestSuite.java</th>\n",
       "      <td>/junit/extensions</td>\n",
       "      <td>4</td>\n",
       "      <td>0.073194</td>\n",
       "    </tr>\n",
       "    <tr>\n",
       "      <th>src/junit/extensions/RepeatedTest.java</th>\n",
       "      <td>/junit/extensions</td>\n",
       "      <td>3</td>\n",
       "      <td>0.054895</td>\n",
       "    </tr>\n",
       "    <tr>\n",
       "      <th>src/junit/extensions/TestDecorator.java</th>\n",
       "      <td>/junit/extensions</td>\n",
       "      <td>2</td>\n",
       "      <td>0.036597</td>\n",
       "    </tr>\n",
       "    <tr>\n",
       "      <th>src/junit/extensions/TestSetup.java</th>\n",
       "      <td>/junit/extensions</td>\n",
       "      <td>4</td>\n",
       "      <td>0.073194</td>\n",
       "    </tr>\n",
       "    <tr>\n",
       "      <th>src/junit/framework/Assert.java</th>\n",
       "      <td>/junit/framework</td>\n",
       "      <td>2</td>\n",
       "      <td>0.036597</td>\n",
       "    </tr>\n",
       "  </tbody>\n",
       "</table>\n",
       "</div>"
      ],
      "text/plain": [
       "                                                     package  changes  \\\n",
       "file                                                                    \n",
       "src/junit/extensions/ActiveTestSuite.java  /junit/extensions        4   \n",
       "src/junit/extensions/RepeatedTest.java     /junit/extensions        3   \n",
       "src/junit/extensions/TestDecorator.java    /junit/extensions        2   \n",
       "src/junit/extensions/TestSetup.java        /junit/extensions        4   \n",
       "src/junit/framework/Assert.java             /junit/framework        2   \n",
       "\n",
       "                                           distance  \n",
       "file                                                 \n",
       "src/junit/extensions/ActiveTestSuite.java  0.073194  \n",
       "src/junit/extensions/RepeatedTest.java     0.054895  \n",
       "src/junit/extensions/TestDecorator.java    0.036597  \n",
       "src/junit/extensions/TestSetup.java        0.073194  \n",
       "src/junit/framework/Assert.java            0.036597  "
      ]
     },
     "execution_count": 5,
     "metadata": {},
     "output_type": "execute_result"
    }
   ],
   "source": [
    "file_change_count[\"distance\"] = file_change_count.apply(lambda x: x[\"changes\"] / changes_mean, axis=1)\n",
    "file_change_count.head()"
   ]
  },
  {
   "cell_type": "markdown",
   "metadata": {},
   "source": [
    "### Top Most Changed Files"
   ]
  },
  {
   "cell_type": "code",
   "execution_count": 6,
   "metadata": {},
   "outputs": [
    {
     "data": {
      "text/html": [
       "<div>\n",
       "<style scoped>\n",
       "    .dataframe tbody tr th:only-of-type {\n",
       "        vertical-align: middle;\n",
       "    }\n",
       "\n",
       "    .dataframe tbody tr th {\n",
       "        vertical-align: top;\n",
       "    }\n",
       "\n",
       "    .dataframe thead th {\n",
       "        text-align: right;\n",
       "    }\n",
       "</style>\n",
       "<table border=\"1\" class=\"dataframe\">\n",
       "  <thead>\n",
       "    <tr style=\"text-align: right;\">\n",
       "      <th></th>\n",
       "      <th>package</th>\n",
       "      <th>changes</th>\n",
       "      <th>distance</th>\n",
       "    </tr>\n",
       "    <tr>\n",
       "      <th>file</th>\n",
       "      <th></th>\n",
       "      <th></th>\n",
       "      <th></th>\n",
       "    </tr>\n",
       "  </thead>\n",
       "  <tbody>\n",
       "    <tr>\n",
       "      <th>src/main/java/org/junit/runners/Parameterized.java</th>\n",
       "      <td>/org/junit/runners</td>\n",
       "      <td>1422</td>\n",
       "      <td>26.020290</td>\n",
       "    </tr>\n",
       "    <tr>\n",
       "      <th>src/main/java/org/junit/runners/ParentRunner.java</th>\n",
       "      <td>/org/junit/runners</td>\n",
       "      <td>1372</td>\n",
       "      <td>25.105371</td>\n",
       "    </tr>\n",
       "  </tbody>\n",
       "</table>\n",
       "</div>"
      ],
      "text/plain": [
       "                                                               package  \\\n",
       "file                                                                     \n",
       "src/main/java/org/junit/runners/Parameterized.java  /org/junit/runners   \n",
       "src/main/java/org/junit/runners/ParentRunner.java   /org/junit/runners   \n",
       "\n",
       "                                                    changes   distance  \n",
       "file                                                                    \n",
       "src/main/java/org/junit/runners/Parameterized.java     1422  26.020290  \n",
       "src/main/java/org/junit/runners/ParentRunner.java      1372  25.105371  "
      ]
     },
     "execution_count": 6,
     "metadata": {},
     "output_type": "execute_result"
    }
   ],
   "source": [
    "top_file_change_count = file_change_count[file_change_count[\"distance\"] >= 15]\n",
    "top_file_change_count = top_file_change_count.sort_values(\"changes\", ascending=False)\n",
    "top_file_change_count"
   ]
  },
  {
   "cell_type": "markdown",
   "metadata": {},
   "source": [
    "### Hotspot diagram"
   ]
  },
  {
   "cell_type": "markdown",
   "metadata": {},
   "source": [
    "The previous data identifies those files which receive a lot of commits. But it isn't good for a global view. Lets group it by package."
   ]
  },
  {
   "cell_type": "code",
   "execution_count": 21,
   "metadata": {},
   "outputs": [
    {
     "data": {
      "text/html": [
       "<div>\n",
       "<style scoped>\n",
       "    .dataframe tbody tr th:only-of-type {\n",
       "        vertical-align: middle;\n",
       "    }\n",
       "\n",
       "    .dataframe tbody tr th {\n",
       "        vertical-align: top;\n",
       "    }\n",
       "\n",
       "    .dataframe thead th {\n",
       "        text-align: right;\n",
       "    }\n",
       "</style>\n",
       "<table border=\"1\" class=\"dataframe\">\n",
       "  <thead>\n",
       "    <tr style=\"text-align: right;\">\n",
       "      <th></th>\n",
       "      <th>changes</th>\n",
       "    </tr>\n",
       "    <tr>\n",
       "      <th>package</th>\n",
       "      <th></th>\n",
       "    </tr>\n",
       "  </thead>\n",
       "  <tbody>\n",
       "    <tr>\n",
       "      <th>/junit/extensions</th>\n",
       "      <td>66</td>\n",
       "    </tr>\n",
       "    <tr>\n",
       "      <th>/junit/framework</th>\n",
       "      <td>429</td>\n",
       "    </tr>\n",
       "    <tr>\n",
       "      <th>/junit/runner</th>\n",
       "      <td>180</td>\n",
       "    </tr>\n",
       "    <tr>\n",
       "      <th>/junit/textui</th>\n",
       "      <td>44</td>\n",
       "    </tr>\n",
       "    <tr>\n",
       "      <th>/org/junit</th>\n",
       "      <td>860</td>\n",
       "    </tr>\n",
       "  </tbody>\n",
       "</table>\n",
       "</div>"
      ],
      "text/plain": [
       "                   changes\n",
       "package                   \n",
       "/junit/extensions       66\n",
       "/junit/framework       429\n",
       "/junit/runner          180\n",
       "/junit/textui           44\n",
       "/org/junit             860"
      ]
     },
     "execution_count": 21,
     "metadata": {},
     "output_type": "execute_result"
    }
   ],
   "source": [
    "package_change_count = history[[\"package\"]]\n",
    "\n",
    "# Clean up\n",
    "package_change_count = package_change_count.value_counts().reset_index(name=\"changes\")\n",
    "package_change_count = package_change_count.sort_values(\"package\")\n",
    "package_change_count = package_change_count.set_index(\"package\")\n",
    "\n",
    "package_change_count.head()"
   ]
  },
  {
   "cell_type": "code",
   "execution_count": 22,
   "metadata": {},
   "outputs": [
    {
     "data": {
      "image/png": "[encoded data removed]",
      "text/plain": [
       "<Figure size 432x288 with 1 Axes>"
      ]
     },
     "metadata": {},
     "output_type": "display_data"
    }
   ],
   "source": [
    "ax = package_change_count.plot.pie(y=\"changes\", legend=False)\n",
    "ax.axes.get_yaxis().get_label().set_visible(False)"
   ]
  }
 ],
 "metadata": {
  "kernelspec": {
   "display_name": "Python 3",
   "language": "python",
   "name": "python3"
  },
  "language_info": {
   "codemirror_mode": {
    "name": "ipython",
    "version": 3
   },
   "file_extension": ".py",
   "mimetype": "text/x-python",
   "name": "python",
   "nbconvert_exporter": "python",
   "pygments_lexer": "ipython3",
   "version": "3.8.5"
  }
 },
 "nbformat": 4,
 "nbformat_minor": 4
}
