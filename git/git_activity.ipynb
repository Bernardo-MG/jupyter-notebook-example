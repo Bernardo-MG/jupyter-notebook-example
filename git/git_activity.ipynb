{
 "cells": [
  {
   "cell_type": "markdown",
   "metadata": {},
   "source": [
    "# Activity in a git Repository"
   ]
  },
  {
   "cell_type": "markdown",
   "metadata": {},
   "source": [
    "We are going to see commit activity in a git repository. The dataset comes from JUnit 4, created by using the git log command:"
   ]
  },
  {
   "cell_type": "markdown",
   "metadata": {},
   "source": [
    "git log --date=iso --pretty=format:\"%h%x09%aN%x09%aE%x09%ad%x09%s\""
   ]
  },
  {
   "cell_type": "markdown",
   "metadata": {},
   "source": [
    "## Setting Up"
   ]
  },
  {
   "cell_type": "code",
   "execution_count": 1,
   "metadata": {},
   "outputs": [],
   "source": [
    "import pandas as pd\n",
    "import calendar\n",
    "activity = pd.read_csv(\"../datasets/git_log_junit4.gz\",\n",
    "                       sep=\"\\t\",\n",
    "                       names=[\"hash\", \"author\", \"author_mail\", \"date\", \"comment\"])"
   ]
  },
  {
   "cell_type": "markdown",
   "metadata": {},
   "source": [
    "## Exploring Data\n"
   ]
  },
  {
   "cell_type": "code",
   "execution_count": 2,
   "metadata": {},
   "outputs": [
    {
     "data": {
      "text/html": [
       "<div>\n",
       "<style scoped>\n",
       "    .dataframe tbody tr th:only-of-type {\n",
       "        vertical-align: middle;\n",
       "    }\n",
       "\n",
       "    .dataframe tbody tr th {\n",
       "        vertical-align: top;\n",
       "    }\n",
       "\n",
       "    .dataframe thead th {\n",
       "        text-align: right;\n",
       "    }\n",
       "</style>\n",
       "<table border=\"1\" class=\"dataframe\">\n",
       "  <thead>\n",
       "    <tr style=\"text-align: right;\">\n",
       "      <th></th>\n",
       "      <th>hash</th>\n",
       "      <th>author</th>\n",
       "      <th>author_mail</th>\n",
       "      <th>date</th>\n",
       "      <th>comment</th>\n",
       "    </tr>\n",
       "  </thead>\n",
       "  <tbody>\n",
       "    <tr>\n",
       "      <th>0</th>\n",
       "      <td>3a5c6b4d</td>\n",
       "      <td>Rahul Nagekar</td>\n",
       "      <td>rahul.nagekar1@gmail.com</td>\n",
       "      <td>2020-08-02T23:54:18+05:30</td>\n",
       "      <td>Deprecated since jdk9 replacing constructor in...</td>\n",
       "    </tr>\n",
       "    <tr>\n",
       "      <th>1</th>\n",
       "      <td>714019f4</td>\n",
       "      <td>Kevin Cooney</td>\n",
       "      <td>kcooney@users.noreply.github.com</td>\n",
       "      <td>2020-08-02T11:23:20-07:00</td>\n",
       "      <td>Merge pull request #1669 from pholser/issues/1...</td>\n",
       "    </tr>\n",
       "    <tr>\n",
       "      <th>2</th>\n",
       "      <td>5be301c6</td>\n",
       "      <td>Paul Holser</td>\n",
       "      <td>holser@railroad19.com</td>\n",
       "      <td>2020-07-20T09:45:28-05:00</td>\n",
       "      <td>Make FrameworkField ctor public. Fixes #1668</td>\n",
       "    </tr>\n",
       "    <tr>\n",
       "      <th>3</th>\n",
       "      <td>c53a2773</td>\n",
       "      <td>Paul Holser</td>\n",
       "      <td>holser@railroad19.com</td>\n",
       "      <td>2020-07-20T09:42:31-05:00</td>\n",
       "      <td>Bump to 4.14-SNAPSHOT</td>\n",
       "    </tr>\n",
       "    <tr>\n",
       "      <th>4</th>\n",
       "      <td>bef3bcaa</td>\n",
       "      <td>Marc Philipp</td>\n",
       "      <td>mail@marcphilipp.de</td>\n",
       "      <td>2020-06-21T19:10:39+02:00</td>\n",
       "      <td>Replace \"master\" with \"main\"</td>\n",
       "    </tr>\n",
       "  </tbody>\n",
       "</table>\n",
       "</div>"
      ],
      "text/plain": [
       "       hash         author                       author_mail  \\\n",
       "0  3a5c6b4d  Rahul Nagekar          rahul.nagekar1@gmail.com   \n",
       "1  714019f4   Kevin Cooney  kcooney@users.noreply.github.com   \n",
       "2  5be301c6    Paul Holser             holser@railroad19.com   \n",
       "3  c53a2773    Paul Holser             holser@railroad19.com   \n",
       "4  bef3bcaa   Marc Philipp               mail@marcphilipp.de   \n",
       "\n",
       "                        date  \\\n",
       "0  2020-08-02T23:54:18+05:30   \n",
       "1  2020-08-02T11:23:20-07:00   \n",
       "2  2020-07-20T09:45:28-05:00   \n",
       "3  2020-07-20T09:42:31-05:00   \n",
       "4  2020-06-21T19:10:39+02:00   \n",
       "\n",
       "                                             comment  \n",
       "0  Deprecated since jdk9 replacing constructor in...  \n",
       "1  Merge pull request #1669 from pholser/issues/1...  \n",
       "2       Make FrameworkField ctor public. Fixes #1668  \n",
       "3                              Bump to 4.14-SNAPSHOT  \n",
       "4                       Replace \"master\" with \"main\"  "
      ]
     },
     "execution_count": 2,
     "metadata": {},
     "output_type": "execute_result"
    }
   ],
   "source": [
    "activity.head()"
   ]
  },
  {
   "cell_type": "markdown",
   "metadata": {},
   "source": [
    "### Formatting Dates"
   ]
  },
  {
   "cell_type": "markdown",
   "metadata": {},
   "source": [
    "We may try to show commits based on the date. But we have a problem with that column, it is not defined as a date type."
   ]
  },
  {
   "cell_type": "code",
   "execution_count": 3,
   "metadata": {},
   "outputs": [
    {
     "name": "stdout",
     "output_type": "stream",
     "text": [
      "<class 'pandas.core.frame.DataFrame'>\n",
      "RangeIndex: 2437 entries, 0 to 2436\n",
      "Data columns (total 5 columns):\n",
      " #   Column       Non-Null Count  Dtype \n",
      "---  ------       --------------  ----- \n",
      " 0   hash         2437 non-null   object\n",
      " 1   author       2437 non-null   object\n",
      " 2   author_mail  2437 non-null   object\n",
      " 3   date         2437 non-null   object\n",
      " 4   comment      2437 non-null   object\n",
      "dtypes: object(5)\n",
      "memory usage: 47.7+ KB\n"
     ]
    }
   ],
   "source": [
    "activity.info()"
   ]
  },
  {
   "cell_type": "markdown",
   "metadata": {},
   "source": [
    "We only need to transform using the correct format."
   ]
  },
  {
   "cell_type": "code",
   "execution_count": 4,
   "metadata": {},
   "outputs": [
    {
     "name": "stdout",
     "output_type": "stream",
     "text": [
      "<class 'pandas.core.frame.DataFrame'>\n",
      "RangeIndex: 2437 entries, 0 to 2436\n",
      "Data columns (total 5 columns):\n",
      " #   Column       Non-Null Count  Dtype              \n",
      "---  ------       --------------  -----              \n",
      " 0   hash         2437 non-null   object             \n",
      " 1   author       2437 non-null   object             \n",
      " 2   author_mail  2437 non-null   object             \n",
      " 3   date         2437 non-null   datetime64[ns, UTC]\n",
      " 4   comment      2437 non-null   object             \n",
      "dtypes: datetime64[ns, UTC](1), object(4)\n",
      "memory usage: 57.2+ KB\n"
     ]
    }
   ],
   "source": [
    "activity[\"date\"] = pd.to_datetime(activity[\"date\"], utc=True, format=\"%Y-%m-%d %H:%M:%S\")\n",
    "activity.info()"
   ]
  },
  {
   "cell_type": "markdown",
   "metadata": {},
   "source": [
    "## Data by Date"
   ]
  },
  {
   "cell_type": "markdown",
   "metadata": {},
   "source": [
    "### By Day"
   ]
  },
  {
   "cell_type": "markdown",
   "metadata": {},
   "source": [
    "Now we can show the data."
   ]
  },
  {
   "cell_type": "code",
   "execution_count": 21,
   "metadata": {},
   "outputs": [
    {
     "data": {
      "text/html": [
       "<div>\n",
       "<style scoped>\n",
       "    .dataframe tbody tr th:only-of-type {\n",
       "        vertical-align: middle;\n",
       "    }\n",
       "\n",
       "    .dataframe tbody tr th {\n",
       "        vertical-align: top;\n",
       "    }\n",
       "\n",
       "    .dataframe thead th {\n",
       "        text-align: right;\n",
       "    }\n",
       "</style>\n",
       "<table border=\"1\" class=\"dataframe\">\n",
       "  <thead>\n",
       "    <tr style=\"text-align: right;\">\n",
       "      <th></th>\n",
       "      <th>commits</th>\n",
       "    </tr>\n",
       "    <tr>\n",
       "      <th>date</th>\n",
       "      <th></th>\n",
       "    </tr>\n",
       "  </thead>\n",
       "  <tbody>\n",
       "    <tr>\n",
       "      <th>2000-12-03</th>\n",
       "      <td>2</td>\n",
       "    </tr>\n",
       "    <tr>\n",
       "      <th>2000-12-09</th>\n",
       "      <td>2</td>\n",
       "    </tr>\n",
       "    <tr>\n",
       "      <th>2000-12-11</th>\n",
       "      <td>2</td>\n",
       "    </tr>\n",
       "    <tr>\n",
       "      <th>2001-01-09</th>\n",
       "      <td>1</td>\n",
       "    </tr>\n",
       "    <tr>\n",
       "      <th>2001-01-10</th>\n",
       "      <td>1</td>\n",
       "    </tr>\n",
       "  </tbody>\n",
       "</table>\n",
       "</div>"
      ],
      "text/plain": [
       "            commits\n",
       "date               \n",
       "2000-12-03        2\n",
       "2000-12-09        2\n",
       "2000-12-11        2\n",
       "2001-01-09        1\n",
       "2001-01-10        1"
      ]
     },
     "execution_count": 21,
     "metadata": {},
     "output_type": "execute_result"
    }
   ],
   "source": [
    "commits_per_day = activity[\"date\"].dt.date\n",
    "commits_per_day = commits_per_day.value_counts().rename_axis(\"date\").reset_index(name='commits')\n",
    "commits_per_day = commits_per_day.sort_values(\"date\")\n",
    "commits_per_day = commits_per_day.set_index(\"date\")\n",
    "commits_per_day.head()"
   ]
  },
  {
   "cell_type": "code",
   "execution_count": 23,
   "metadata": {},
   "outputs": [
    {
     "data": {
      "text/plain": [
       "<AxesSubplot:xlabel='date'>"
      ]
     },
     "execution_count": 23,
     "metadata": {},
     "output_type": "execute_result"
    },
    {
     "data": {
      "image/png": "[encoded data removed]",
      "text/plain": [
       "<Figure size 432x288 with 1 Axes>"
      ]
     },
     "metadata": {
      "needs_background": "light"
     },
     "output_type": "display_data"
    }
   ],
   "source": [
    "commits_per_day.plot.line()"
   ]
  },
  {
   "cell_type": "markdown",
   "metadata": {},
   "source": [
    "### By Month"
   ]
  },
  {
   "cell_type": "markdown",
   "metadata": {},
   "source": [
    "Now we try the same by month."
   ]
  },
  {
   "cell_type": "code",
   "execution_count": 7,
   "metadata": {},
   "outputs": [
    {
     "data": {
      "text/html": [
       "<div>\n",
       "<style scoped>\n",
       "    .dataframe tbody tr th:only-of-type {\n",
       "        vertical-align: middle;\n",
       "    }\n",
       "\n",
       "    .dataframe tbody tr th {\n",
       "        vertical-align: top;\n",
       "    }\n",
       "\n",
       "    .dataframe thead th {\n",
       "        text-align: right;\n",
       "    }\n",
       "</style>\n",
       "<table border=\"1\" class=\"dataframe\">\n",
       "  <thead>\n",
       "    <tr style=\"text-align: right;\">\n",
       "      <th></th>\n",
       "      <th>hash</th>\n",
       "      <th>author</th>\n",
       "      <th>author_mail</th>\n",
       "      <th>date</th>\n",
       "      <th>comment</th>\n",
       "      <th>month</th>\n",
       "    </tr>\n",
       "  </thead>\n",
       "  <tbody>\n",
       "    <tr>\n",
       "      <th>0</th>\n",
       "      <td>3a5c6b4d</td>\n",
       "      <td>Rahul Nagekar</td>\n",
       "      <td>rahul.nagekar1@gmail.com</td>\n",
       "      <td>2020-08-02 18:24:18+00:00</td>\n",
       "      <td>Deprecated since jdk9 replacing constructor in...</td>\n",
       "      <td>8</td>\n",
       "    </tr>\n",
       "    <tr>\n",
       "      <th>1</th>\n",
       "      <td>714019f4</td>\n",
       "      <td>Kevin Cooney</td>\n",
       "      <td>kcooney@users.noreply.github.com</td>\n",
       "      <td>2020-08-02 18:23:20+00:00</td>\n",
       "      <td>Merge pull request #1669 from pholser/issues/1...</td>\n",
       "      <td>8</td>\n",
       "    </tr>\n",
       "    <tr>\n",
       "      <th>2</th>\n",
       "      <td>5be301c6</td>\n",
       "      <td>Paul Holser</td>\n",
       "      <td>holser@railroad19.com</td>\n",
       "      <td>2020-07-20 14:45:28+00:00</td>\n",
       "      <td>Make FrameworkField ctor public. Fixes #1668</td>\n",
       "      <td>7</td>\n",
       "    </tr>\n",
       "    <tr>\n",
       "      <th>3</th>\n",
       "      <td>c53a2773</td>\n",
       "      <td>Paul Holser</td>\n",
       "      <td>holser@railroad19.com</td>\n",
       "      <td>2020-07-20 14:42:31+00:00</td>\n",
       "      <td>Bump to 4.14-SNAPSHOT</td>\n",
       "      <td>7</td>\n",
       "    </tr>\n",
       "    <tr>\n",
       "      <th>4</th>\n",
       "      <td>bef3bcaa</td>\n",
       "      <td>Marc Philipp</td>\n",
       "      <td>mail@marcphilipp.de</td>\n",
       "      <td>2020-06-21 17:10:39+00:00</td>\n",
       "      <td>Replace \"master\" with \"main\"</td>\n",
       "      <td>6</td>\n",
       "    </tr>\n",
       "  </tbody>\n",
       "</table>\n",
       "</div>"
      ],
      "text/plain": [
       "       hash         author                       author_mail  \\\n",
       "0  3a5c6b4d  Rahul Nagekar          rahul.nagekar1@gmail.com   \n",
       "1  714019f4   Kevin Cooney  kcooney@users.noreply.github.com   \n",
       "2  5be301c6    Paul Holser             holser@railroad19.com   \n",
       "3  c53a2773    Paul Holser             holser@railroad19.com   \n",
       "4  bef3bcaa   Marc Philipp               mail@marcphilipp.de   \n",
       "\n",
       "                       date  \\\n",
       "0 2020-08-02 18:24:18+00:00   \n",
       "1 2020-08-02 18:23:20+00:00   \n",
       "2 2020-07-20 14:45:28+00:00   \n",
       "3 2020-07-20 14:42:31+00:00   \n",
       "4 2020-06-21 17:10:39+00:00   \n",
       "\n",
       "                                             comment  month  \n",
       "0  Deprecated since jdk9 replacing constructor in...      8  \n",
       "1  Merge pull request #1669 from pholser/issues/1...      8  \n",
       "2       Make FrameworkField ctor public. Fixes #1668      7  \n",
       "3                              Bump to 4.14-SNAPSHOT      7  \n",
       "4                       Replace \"master\" with \"main\"      6  "
      ]
     },
     "execution_count": 7,
     "metadata": {},
     "output_type": "execute_result"
    }
   ],
   "source": [
    "activity[\"month\"] = activity[\"date\"].dt.month\n",
    "activity.head()"
   ]
  },
  {
   "cell_type": "code",
   "execution_count": 28,
   "metadata": {},
   "outputs": [
    {
     "data": {
      "text/html": [
       "<div>\n",
       "<style scoped>\n",
       "    .dataframe tbody tr th:only-of-type {\n",
       "        vertical-align: middle;\n",
       "    }\n",
       "\n",
       "    .dataframe tbody tr th {\n",
       "        vertical-align: top;\n",
       "    }\n",
       "\n",
       "    .dataframe thead th {\n",
       "        text-align: right;\n",
       "    }\n",
       "</style>\n",
       "<table border=\"1\" class=\"dataframe\">\n",
       "  <thead>\n",
       "    <tr style=\"text-align: right;\">\n",
       "      <th></th>\n",
       "      <th>commits</th>\n",
       "    </tr>\n",
       "    <tr>\n",
       "      <th>month</th>\n",
       "      <th></th>\n",
       "    </tr>\n",
       "  </thead>\n",
       "  <tbody>\n",
       "    <tr>\n",
       "      <th>1</th>\n",
       "      <td>234</td>\n",
       "    </tr>\n",
       "    <tr>\n",
       "      <th>2</th>\n",
       "      <td>167</td>\n",
       "    </tr>\n",
       "    <tr>\n",
       "      <th>3</th>\n",
       "      <td>143</td>\n",
       "    </tr>\n",
       "    <tr>\n",
       "      <th>4</th>\n",
       "      <td>231</td>\n",
       "    </tr>\n",
       "    <tr>\n",
       "      <th>5</th>\n",
       "      <td>254</td>\n",
       "    </tr>\n",
       "  </tbody>\n",
       "</table>\n",
       "</div>"
      ],
      "text/plain": [
       "       commits\n",
       "month         \n",
       "1          234\n",
       "2          167\n",
       "3          143\n",
       "4          231\n",
       "5          254"
      ]
     },
     "execution_count": 28,
     "metadata": {},
     "output_type": "execute_result"
    }
   ],
   "source": [
    "commits_per_month = activity[\"date\"].dt.month\n",
    "commits_per_month = commits_per_month.value_counts().rename_axis(\"month\").reset_index(name='commits')\n",
    "commits_per_month = commits_per_month.sort_values(\"month\")\n",
    "commits_per_month = commits_per_month.set_index(\"month\")\n",
    "commits_per_month.head()"
   ]
  },
  {
   "cell_type": "code",
   "execution_count": 29,
   "metadata": {},
   "outputs": [
    {
     "data": {
      "text/plain": [
       "<AxesSubplot:xlabel='month'>"
      ]
     },
     "execution_count": 29,
     "metadata": {},
     "output_type": "execute_result"
    },
    {
     "data": {
      "image/png": "[encoded data removed]",
      "text/plain": [
       "<Figure size 432x288 with 1 Axes>"
      ]
     },
     "metadata": {
      "needs_background": "light"
     },
     "output_type": "display_data"
    }
   ],
   "source": [
    "commits_per_month.plot.line()"
   ]
  }
 ],
 "metadata": {
  "kernelspec": {
   "display_name": "Python 3",
   "language": "python",
   "name": "python3"
  },
  "language_info": {
   "codemirror_mode": {
    "name": "ipython",
    "version": 3
   },
   "file_extension": ".py",
   "mimetype": "text/x-python",
   "name": "python",
   "nbconvert_exporter": "python",
   "pygments_lexer": "ipython3",
   "version": "3.8.1"
  }
 },
 "nbformat": 4,
 "nbformat_minor": 4
}
