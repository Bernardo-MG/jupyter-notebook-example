{
 "cells": [
  {
   "cell_type": "markdown",
   "metadata": {},
   "source": [
    "# Activity in a git Repository"
   ]
  },
  {
   "cell_type": "markdown",
   "metadata": {},
   "source": [
    "We are going to see commit activity in a git repository. The dataset comes from JUnit 4, created by using the git log command:"
   ]
  },
  {
   "cell_type": "markdown",
   "metadata": {},
   "source": [
    "git log --date=iso --pretty=format:\"%h%x09%aN%x09%aE%x09%ad%x09%s\""
   ]
  },
  {
   "cell_type": "markdown",
   "metadata": {},
   "source": [
    "## Setting Up"
   ]
  },
  {
   "cell_type": "code",
   "execution_count": 1,
   "metadata": {},
   "outputs": [],
   "source": [
    "import pandas as pd\n",
    "activity = pd.read_csv(\"../datasets/git_log_junit4.gz\",\n",
    "                       sep=\"\\t\",\n",
    "                       names=['hash', 'author', 'author_mail', 'date', 'comment'])"
   ]
  },
  {
   "cell_type": "markdown",
   "metadata": {},
   "source": [
    "## Exploring the data"
   ]
  },
  {
   "cell_type": "code",
   "execution_count": 2,
   "metadata": {},
   "outputs": [
    {
     "data": {
      "text/html": [
       "<div>\n",
       "<style scoped>\n",
       "    .dataframe tbody tr th:only-of-type {\n",
       "        vertical-align: middle;\n",
       "    }\n",
       "\n",
       "    .dataframe tbody tr th {\n",
       "        vertical-align: top;\n",
       "    }\n",
       "\n",
       "    .dataframe thead th {\n",
       "        text-align: right;\n",
       "    }\n",
       "</style>\n",
       "<table border=\"1\" class=\"dataframe\">\n",
       "  <thead>\n",
       "    <tr style=\"text-align: right;\">\n",
       "      <th></th>\n",
       "      <th>hash</th>\n",
       "      <th>author</th>\n",
       "      <th>author_mail</th>\n",
       "      <th>date</th>\n",
       "      <th>comment</th>\n",
       "    </tr>\n",
       "  </thead>\n",
       "  <tbody>\n",
       "    <tr>\n",
       "      <th>0</th>\n",
       "      <td>3a5c6b4d</td>\n",
       "      <td>Rahul Nagekar</td>\n",
       "      <td>rahul.nagekar1@gmail.com</td>\n",
       "      <td>2020-08-02 23:54:18 +0530</td>\n",
       "      <td>Deprecated since jdk9 replacing constructor in...</td>\n",
       "    </tr>\n",
       "    <tr>\n",
       "      <th>1</th>\n",
       "      <td>714019f4</td>\n",
       "      <td>Kevin Cooney</td>\n",
       "      <td>kcooney@users.noreply.github.com</td>\n",
       "      <td>2020-08-02 11:23:20 -0700</td>\n",
       "      <td>Merge pull request #1669 from pholser/issues/1...</td>\n",
       "    </tr>\n",
       "    <tr>\n",
       "      <th>2</th>\n",
       "      <td>5be301c6</td>\n",
       "      <td>Paul Holser</td>\n",
       "      <td>holser@railroad19.com</td>\n",
       "      <td>2020-07-20 09:45:28 -0500</td>\n",
       "      <td>Make FrameworkField ctor public. Fixes #1668</td>\n",
       "    </tr>\n",
       "    <tr>\n",
       "      <th>3</th>\n",
       "      <td>c53a2773</td>\n",
       "      <td>Paul Holser</td>\n",
       "      <td>holser@railroad19.com</td>\n",
       "      <td>2020-07-20 09:42:31 -0500</td>\n",
       "      <td>Bump to 4.14-SNAPSHOT</td>\n",
       "    </tr>\n",
       "    <tr>\n",
       "      <th>4</th>\n",
       "      <td>bef3bcaa</td>\n",
       "      <td>Marc Philipp</td>\n",
       "      <td>mail@marcphilipp.de</td>\n",
       "      <td>2020-06-21 19:10:39 +0200</td>\n",
       "      <td>Replace \"master\" with \"main\"</td>\n",
       "    </tr>\n",
       "  </tbody>\n",
       "</table>\n",
       "</div>"
      ],
      "text/plain": [
       "       hash         author                       author_mail  \\\n",
       "0  3a5c6b4d  Rahul Nagekar          rahul.nagekar1@gmail.com   \n",
       "1  714019f4   Kevin Cooney  kcooney@users.noreply.github.com   \n",
       "2  5be301c6    Paul Holser             holser@railroad19.com   \n",
       "3  c53a2773    Paul Holser             holser@railroad19.com   \n",
       "4  bef3bcaa   Marc Philipp               mail@marcphilipp.de   \n",
       "\n",
       "                        date  \\\n",
       "0  2020-08-02 23:54:18 +0530   \n",
       "1  2020-08-02 11:23:20 -0700   \n",
       "2  2020-07-20 09:45:28 -0500   \n",
       "3  2020-07-20 09:42:31 -0500   \n",
       "4  2020-06-21 19:10:39 +0200   \n",
       "\n",
       "                                             comment  \n",
       "0  Deprecated since jdk9 replacing constructor in...  \n",
       "1  Merge pull request #1669 from pholser/issues/1...  \n",
       "2       Make FrameworkField ctor public. Fixes #1668  \n",
       "3                              Bump to 4.14-SNAPSHOT  \n",
       "4                       Replace \"master\" with \"main\"  "
      ]
     },
     "execution_count": 2,
     "metadata": {},
     "output_type": "execute_result"
    }
   ],
   "source": [
    "activity.head()"
   ]
  }
 ],
 "metadata": {
  "kernelspec": {
   "display_name": "Python 3",
   "language": "python",
   "name": "python3"
  },
  "language_info": {
   "codemirror_mode": {
    "name": "ipython",
    "version": 3
   },
   "file_extension": ".py",
   "mimetype": "text/x-python",
   "name": "python",
   "nbconvert_exporter": "python",
   "pygments_lexer": "ipython3",
   "version": "3.8.1"
  }
 },
 "nbformat": 4,
 "nbformat_minor": 4
}
