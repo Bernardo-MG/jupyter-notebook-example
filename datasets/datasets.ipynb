{
 "cells": [
  {
   "cell_type": "markdown",
   "metadata": {},
   "source": [
    "# Datasets"
   ]
  },
  {
   "cell_type": "markdown",
   "metadata": {},
   "source": [
    "## JUnit 4"
   ]
  },
  {
   "cell_type": "markdown",
   "metadata": {},
   "source": [
    "Created from a copy of the JUnit4 project."
   ]
  },
  {
   "cell_type": "markdown",
   "metadata": {},
   "source": [
    "### git Log"
   ]
  },
  {
   "cell_type": "markdown",
   "metadata": {},
   "source": [
    "Contained in git_log_junit4.gz."
   ]
  },
  {
   "cell_type": "markdown",
   "metadata": {},
   "source": [
    "Created with this command:"
   ]
  },
  {
   "cell_type": "markdown",
   "metadata": {},
   "source": [
    "```git log --date=iso --pretty=format:\"%h%x09%aN%x09%aE%x09%ad%x09%s\"```"
   ]
  },
  {
   "cell_type": "markdown",
   "metadata": {},
   "source": [
    "### git History"
   ]
  },
  {
   "cell_type": "markdown",
   "metadata": {},
   "source": [
    "Contained in git_history_junit4.gz."
   ]
  },
  {
   "cell_type": "markdown",
   "metadata": {},
   "source": [
    "Created with JQAssistant."
   ]
  },
  {
   "cell_type": "markdown",
   "metadata": {},
   "source": [
    "```MATCH\n",
    "   (commit:Git:Commit),\n",
    "   (commit)-[:CONTAINS_CHANGE]->(change:Git:Change),\n",
    "   (author:Git:Author)-[:COMMITTED]->(commit),\n",
    "   (change)-[]->(file:File),\n",
    "   (class)-[:HAS_SOURCE]->(file:Git:File),\n",
    "   (package:Package)-[:CONTAINS]->(class)\n",
    "RETURN DISTINCT\n",
    "   commit.sha AS sha,\n",
    "   commit.date AS date,\n",
    "   commit.time AS time,\n",
    "   commit.author AS author,\n",
    "   author.email AS author_email,\n",
    "   author.identString AS author_id,\n",
    "   commit.committer AS commiter,\n",
    "   commit.message AS message,\n",
    "   change.modificationKind AS modificationKind,\n",
    "   file.fileName AS file,\n",
    "   class.name AS class,\n",
    "   package.fileName AS package```"
   ]
  },
  {
   "cell_type": "markdown",
   "metadata": {},
   "source": [
    "### Class Structure"
   ]
  },
  {
   "cell_type": "markdown",
   "metadata": {},
   "source": [
    "Contained in class_structure_junit4.gz."
   ]
  },
  {
   "cell_type": "markdown",
   "metadata": {},
   "source": [
    "Created with JQAssistant."
   ]
  },
  {
   "cell_type": "markdown",
   "metadata": {},
   "source": [
    "```MATCH\n",
    "   (commit:Git:Commit),\n",
    "   (commit)-[:CONTAINS_CHANGE]->(change:Git:Change),\n",
    "   (author:Git:Author)-[:COMMITTED]->(commit),\n",
    "   (change)-[]->(file:File),\n",
    "   (class)-[:HAS_SOURCE]->(file:Git:File),\n",
    "   (package:Package)-[:CONTAINS]->(class)\n",
    "RETURN DISTINCT\n",
    "   commit.sha AS sha,\n",
    "   commit.date AS date,\n",
    "   commit.time AS time,\n",
    "   commit.author AS author,\n",
    "   author.email AS author_email,\n",
    "   author.identString AS author_id,\n",
    "   commit.committer AS commiter,\n",
    "   commit.message AS message,\n",
    "   change.modificationKind AS modificationKind,\n",
    "   file.fileName AS file,\n",
    "   class.name AS class,\n",
    "   package.fileName AS package```"
   ]
  }
 ],
 "metadata": {
  "kernelspec": {
   "display_name": "Python 3",
   "language": "python",
   "name": "python3"
  },
  "language_info": {
   "codemirror_mode": {
    "name": "ipython",
    "version": 3
   },
   "file_extension": ".py",
   "mimetype": "text/x-python",
   "name": "python",
   "nbconvert_exporter": "python",
   "pygments_lexer": "ipython3",
   "version": "3.8.5"
  }
 },
 "nbformat": 4,
 "nbformat_minor": 4
}
